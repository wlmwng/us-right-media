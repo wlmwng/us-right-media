{
 "cells": [
  {
   "cell_type": "markdown",
   "id": "5683f42c-3c9e-4f12-be30-12ccb74fa429",
   "metadata": {},
   "source": [
    "# Process text\n",
    "\n",
    "**Purpose**: text pre-processing steps in preparation for NLP tasks.\n",
    "\n",
    "0.  clean text with regex (Fox News only)\n",
    "1. remove HTML tags\n",
    "2. remove punctuation\n",
    "3. remove stopwords\n",
    "4. clean whitespace"
   ]
  },
  {
   "cell_type": "code",
   "execution_count": 1,
   "id": "01be8c68",
   "metadata": {},
   "outputs": [],
   "source": [
    "# matplotlib is logged even though disable_existing_loggers=yes in logging_config.yaml\n",
    "# https://stackoverflow.com/a/51529172/7016397\n",
    "# workaround is to manually set the level before creating my logger\n",
    "import logging\n",
    "logging.getLogger('matplotlib').setLevel(logging.WARNING)\n",
    "\n",
    "from usrightmedia.shared.loggers import get_logger\n",
    "LOGGER = get_logger(filename = '01-text-processing', logger_type='main')"
   ]
  },
  {
   "cell_type": "markdown",
   "id": "382b8396",
   "metadata": {},
   "source": [
    "- Pre-processing uses the Bulk API through the Python Elasticsearch client.\n",
    "- Elasticsearch: [\"How Big Is Too Big?\"](https://www.elastic.co/guide/en/elasticsearch/guide/current/bulk.html#_how_big_is_too_big)\n",
    ">The entire bulk request needs to be loaded into memory by the node that receives our request, so the bigger the request, the less memory available for other requests. There is an optimal size of bulk request. Above that size, performance no longer improves and may even drop off. The optimal size, however, is not a fixed number. It depends entirely on your hardware, your document size and complexity, and your indexing and search load.\n",
    ">Fortunately, it is easy to find this sweet spot: Try indexing typical documents in batches of increasing size. When performance starts to drop off, your batch size is too big. A good place to start is with batches of 1,000 to 5,000 documents or, if your documents are very large, with even smaller batches.\n",
    ">It is often useful to keep an eye on the physical size of your bulk requests. One thousand 1KB documents is very different from one thousand 1MB documents. A good bulk size to start playing with is around 5-15MB in size."
   ]
  },
  {
   "cell_type": "code",
   "execution_count": 2,
   "id": "24831251",
   "metadata": {},
   "outputs": [],
   "source": [
    "bulksize = 2000"
   ]
  },
  {
   "cell_type": "markdown",
   "id": "e21da55d-e38f-4edd-8766-9f86b6815fc4",
   "metadata": {},
   "source": [
    "## Import INCA and check doctypes"
   ]
  },
  {
   "cell_type": "code",
   "execution_count": 3,
   "id": "66e0f65e-4d92-41a2-823e-2f9f5c7b1cc5",
   "metadata": {},
   "outputs": [
    {
     "name": "stdout",
     "output_type": "stream",
     "text": [
      "2021-12-11 03:49:10,342 - [WARNING] - INCA - (hype_analysis.py).<module>(21) - $DISPLAY environment variable is not set, trying a different approach. You probably are running INCA on a text console, right?\n",
      "2021-12-11 03:49:10,890 - [WARNING] - INCA - (var_tsa_analysis.py).<module>(21) - $DISPLAY environment variable is not set, trying a different approach. You probably are running INCA on a text console, right?\n"
     ]
    },
    {
     "data": {
      "text/plain": [
       "{'tweets2': 889739,\n",
       " 'foxnews': 264621,\n",
       " 'breitbart': 149241,\n",
       " 'dailycaller': 121822,\n",
       " 'oneamericanews': 117287,\n",
       " 'washingtonexaminer': 71710,\n",
       " 'newsmax': 71146,\n",
       " 'gatewaypundit': 39401,\n",
       " 'infowars': 28453,\n",
       " 'vdare': 19643,\n",
       " 'dailystormer': 15823,\n",
       " 'americanrenaissance': 9838,\n",
       " 'rushlimbaugh': 9396,\n",
       " 'seanhannity': 5647}"
      ]
     },
     "execution_count": 3,
     "metadata": {},
     "output_type": "execute_result"
    }
   ],
   "source": [
    "from inca import Inca\n",
    "myinca = Inca()\n",
    "myinca.database.list_doctypes()"
   ]
  },
  {
   "cell_type": "code",
   "execution_count": 4,
   "id": "80c5e955",
   "metadata": {},
   "outputs": [],
   "source": [
    "outlet_doctypes = [\n",
    "    \"americanrenaissance\",\n",
    "    \"breitbart\",\n",
    "    \"dailycaller\",\n",
    "    \"dailystormer\",\n",
    "    \"foxnews\",\n",
    "    \"gatewaypundit\",\n",
    "    \"infowars\",\n",
    "    \"newsmax\",\n",
    "    \"oneamericanews\",\n",
    "    \"rushlimbaugh\",\n",
    "    \"seanhannity\",\n",
    "    \"vdare\",\n",
    "    \"washingtonexaminer\",\n",
    "]"
   ]
  },
  {
   "cell_type": "markdown",
   "id": "840dd25d-5620-4e15-89b4-86d7cbe4438b",
   "metadata": {},
   "source": [
    "## Cleaning steps"
   ]
  },
  {
   "cell_type": "markdown",
   "id": "bb9c9749-16e6-439b-beaf-a38670e3aae5",
   "metadata": {},
   "source": [
    "#### 0. regex (Fox News only)\n",
    "\n",
    "- Rule 1: `\"\\\\n[A-Z0-9 :,\\\\'!@\\$\\(\\)\\-\\.\\?\\:\\;\\/]+(?:\\\\n|$)\"`\n",
    "\n",
    "    ```\n",
    "    Removes substrings which begin with a line break (\"\\n\") and end with a line break or end of string (\"$\") where the substring contains only capitalized letters or common punctuation:\n",
    "    - generic promo links\n",
    "    - links to other news content\n",
    "    - subheadings within article\n",
    "\n",
    "    Examples:\n",
    "    - \"\\nCLICK HERE TO GET THE FOX NEWS APP\\n\" (unrelated)\n",
    "    - \"\\nTRUMP SAYS HE WILL LEAVE OFFICE IF ELECTORAL COLLEGE VOTES FOR BIDEN\\n\" (unrelated)\n",
    "    - \"\\nCLICK HERE FOR MORE SPORTS COVERAGE ON FOXNEWS.COM\\n\" (unrelated)\n",
    "    - \"\\nSTOCK UP\\n\" (article subheading)\n",
    "    - \"\\nWHAT NEEDS HELP\\n\" (article subheading)\n",
    "    \n",
    "    ```\n",
    "\n",
    "\n",
    "- Rule 2: `\"Get all the latest news on coronavirus and more delivered daily to your inbox\\. Sign up here\"`\n",
    "\n",
    "    ```\n",
    "    Removes generic email signup\n",
    "    ```  "
   ]
  },
  {
   "cell_type": "code",
   "execution_count": null,
   "id": "8ea74c56-b766-47c3-a38c-05172357d534",
   "metadata": {},
   "outputs": [
    {
     "name": "stderr",
     "output_type": "stream",
     "text": [
      " 94%|█████████▍| 249001/264621 [1:19:20<05:59, 43.40it/s]"
     ]
    }
   ],
   "source": [
    "try:\n",
    "    rules_fox = [\n",
    "        {\"regexp\": \"\\\\n[A-Z0-9 :,\\\\'!@\\$\\(\\)\\-\\.\\?\\:\\;\\/]+(?:\\\\n|$)\", \"replace_with\": \"\"},\n",
    "        {\n",
    "            \"regexp\": \"Get all the latest news on coronavirus and more delivered daily to your inbox\\. Sign up here\",\n",
    "            \"replace_with\": \"\",\n",
    "        },\n",
    "    ]\n",
    "\n",
    "    # generator\n",
    "    docs_regexp = myinca.processing.multireplace(\n",
    "        docs_or_query=\"foxnews\",\n",
    "        field=\"article_maintext\",\n",
    "        rules=rules_fox,\n",
    "        save=True,\n",
    "        new_key=\"article_maintext_0\",\n",
    "        action=\"batch\",    \n",
    "        bulksize=bulksize,\n",
    "    )\n",
    "    for doc in docs_regexp:\n",
    "        # runs process on doc\n",
    "        pass\n",
    "\n",
    "except Exception as e:\n",
    "    LOGGER.warning(e)\n"
   ]
  },
  {
   "cell_type": "markdown",
   "id": "b44e06e8-21b5-4e32-882e-1b096f0a829f",
   "metadata": {},
   "source": [
    "#### 1. remove HTML tags\n",
    "- run Fox News and non-Fox News outlets separately due to different input key"
   ]
  },
  {
   "cell_type": "code",
   "execution_count": null,
   "id": "186d19b5-6d72-4b0b-8460-e8d9321c8a6b",
   "metadata": {},
   "outputs": [],
   "source": [
    "try:\n",
    "    # generator\n",
    "    docs_rmv_html = myinca.processing.remove_html_tags(\n",
    "        docs_or_query=\"foxnews\",\n",
    "        field=\"article_maintext_0\",\n",
    "        save=True,\n",
    "        new_key=\"article_maintext_1\",\n",
    "        action=\"batch\",    \n",
    "        bulksize=bulksize,\n",
    "    )\n",
    "    for doc in docs_rmv_html:\n",
    "        # runs process on doc\n",
    "        pass\n",
    "except Exception as e:\n",
    "    LOGGER.warning(e)\n"
   ]
  },
  {
   "cell_type": "code",
   "execution_count": null,
   "id": "2434893c-311f-4ee9-a095-cbf4cd3c8722",
   "metadata": {},
   "outputs": [],
   "source": [
    "remaining_doctypes = [doctype for doctype in outlet_doctypes if doctype not in [\"foxnews\"]]\n",
    "remaining_doctypes"
   ]
  },
  {
   "cell_type": "code",
   "execution_count": null,
   "id": "97652dcf-00c4-4741-a6c2-12dff14ccdba",
   "metadata": {},
   "outputs": [],
   "source": [
    "for doctype in remaining_doctypes:\n",
    "    try:\n",
    "        docs_rmv_html = myinca.processing.remove_html_tags(\n",
    "            docs_or_query=doctype,\n",
    "            field=\"article_maintext\",\n",
    "            save=True,\n",
    "            new_key=\"article_maintext_1\",\n",
    "            action=\"batch\",\n",
    "            bulksize=bulksize,\n",
    "        )\n",
    "        for doc in docs_rmv_html:\n",
    "            # runs process on doc\n",
    "            pass\n",
    "    except Exception as e:\n",
    "        LOGGER.warning(e)\n"
   ]
  },
  {
   "cell_type": "markdown",
   "id": "357c5ac8-3e41-45e7-adb6-b4f61d9ca72c",
   "metadata": {},
   "source": [
    "#### 2. remove punctuation"
   ]
  },
  {
   "cell_type": "code",
   "execution_count": null,
   "id": "6e3a2576-d751-4428-96ff-b545e6616576",
   "metadata": {},
   "outputs": [],
   "source": [
    "for doctype in outlet_doctypes:\n",
    "    try:\n",
    "        docs_rmv_punc = myinca.processing.remove_punctuation(\n",
    "            docs_or_query=doctype,\n",
    "            field=\"article_maintext_1\",\n",
    "            save=True,\n",
    "            new_key=\"article_maintext_2\",\n",
    "            action=\"batch\",\n",
    "            bulksize=bulksize,\n",
    "        )\n",
    "        for doc in docs_rmv_punc:\n",
    "            # runs process on doc\n",
    "            pass\n",
    "    except Exception as e:\n",
    "        LOGGER.warning(e)\n"
   ]
  },
  {
   "cell_type": "markdown",
   "id": "e799ce0a-8cf5-45ed-8fac-80a3bdfd409b",
   "metadata": {},
   "source": [
    "#### 3. remove stopwords"
   ]
  },
  {
   "cell_type": "code",
   "execution_count": null,
   "id": "3a9a2822-b8a1-477a-931b-7379b6fac57e",
   "metadata": {},
   "outputs": [],
   "source": [
    "for doctype in outlet_doctypes:\n",
    "    try:\n",
    "        docs_rmv_stopwords = myinca.processing.remove_stopwords(\n",
    "            stopwords=\"english\",\n",
    "            docs_or_query=doctype,\n",
    "            field=\"article_maintext_2\",\n",
    "            save=True,\n",
    "            new_key=\"article_maintext_3\",\n",
    "            action=\"batch\",\n",
    "            bulksize=bulksize,\n",
    "        )\n",
    "        for doc in docs_rmv_stopwords:\n",
    "            # runs process on doc\n",
    "            pass\n",
    "    except Exception as e:\n",
    "        LOGGER.warning(e)\n"
   ]
  },
  {
   "cell_type": "markdown",
   "id": "c5d3cb24-3557-4edf-8174-4ebbd7c8a521",
   "metadata": {},
   "source": [
    "#### 4. clean whitespace"
   ]
  },
  {
   "cell_type": "code",
   "execution_count": null,
   "id": "b9d1145a-143a-4333-a065-90f2e0356ec7",
   "metadata": {},
   "outputs": [],
   "source": [
    "for doctype in outlet_doctypes:\n",
    "    try:\n",
    "        docs_clean_whitespace = myinca.processing.clean_whitespace(\n",
    "            docs_or_query=doctype,\n",
    "            field=\"article_maintext_3\",\n",
    "            save=True,\n",
    "            new_key=\"article_maintext_4\",\n",
    "            action=\"batch\",\n",
    "            bulksize=bulksize,\n",
    "        )\n",
    "        for doc in docs_clean_whitespace:\n",
    "            # runs process on doc\n",
    "            pass\n",
    "    except Exception as e:\n",
    "        LOGGER.warning(e)\n"
   ]
  }
 ],
 "metadata": {
  "interpreter": {
   "hash": "489b3f76e79a41abcd959e6c959c893d49f1aca67efb4576989581502f23d0f7"
  },
  "kernelspec": {
   "display_name": "Python 3.8 (usrightmedia)",
   "language": "python",
   "name": "usrightmedia"
  },
  "language_info": {
   "codemirror_mode": {
    "name": "ipython",
    "version": 3
   },
   "file_extension": ".py",
   "mimetype": "text/x-python",
   "name": "python",
   "nbconvert_exporter": "python",
   "pygments_lexer": "ipython3",
   "version": "3.8.12"
  }
 },
 "nbformat": 4,
 "nbformat_minor": 5
}
