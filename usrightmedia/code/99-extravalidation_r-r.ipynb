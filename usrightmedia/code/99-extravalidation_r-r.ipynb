{
 "cells": [
  {
   "cell_type": "code",
   "execution_count": 1,
   "metadata": {},
   "outputs": [],
   "source": [
    "import pandas as pd"
   ]
  },
  {
   "cell_type": "code",
   "execution_count": 81,
   "metadata": {},
   "outputs": [],
   "source": [
    "df = pd.read_excel('clusters_softcos06_sample_dt.xlsx', sheet_name=\"clusters_softcos06_WW\", skiprows=4)\n",
    "\n",
    "tenlargestclusters = [f\"softcos06_{i}\" for i in range(10)]\n",
    "df_largest = df[df.cluster_id.isin(tenlargestclusters)]\n",
    "df_random = df[~df.cluster_id.isin(tenlargestclusters)]"
   ]
  },
  {
   "cell_type": "code",
   "execution_count": 82,
   "metadata": {},
   "outputs": [
    {
     "data": {
      "text/plain": [
       "issue    958\n",
       "event    211\n",
       "topic     32\n",
       "Name: cluster_type, dtype: int64"
      ]
     },
     "execution_count": 82,
     "metadata": {},
     "output_type": "execute_result"
    }
   ],
   "source": [
    "df.cluster_type.value_counts()"
   ]
  },
  {
   "cell_type": "code",
   "execution_count": 83,
   "metadata": {},
   "outputs": [
    {
     "data": {
      "text/plain": [
       "cluster_type\n",
       "False     32\n",
       "True     283\n",
       "dtype: int64"
      ]
     },
     "execution_count": 83,
     "metadata": {},
     "output_type": "execute_result"
    }
   ],
   "source": [
    "_tmp = df_random.groupby(df.cluster_type!='topic').size()\n",
    "_tmp"
   ]
  },
  {
   "cell_type": "code",
   "execution_count": 104,
   "metadata": {},
   "outputs": [
    {
     "name": "stdout",
     "output_type": "stream",
     "text": [
      "We could thus say that that there is a precision of 0.89\n"
     ]
    }
   ],
   "source": [
    "print(f\"We could thus say that that there is a precision of {_tmp.iloc[1]/_tmp.sum():.2f}\")"
   ]
  },
  {
   "cell_type": "code",
   "execution_count": 102,
   "metadata": {},
   "outputs": [
    {
     "name": "stdout",
     "output_type": "stream",
     "text": [
      "But there are also 2 other misclassifications. Let's take those also into account\n"
     ]
    }
   ],
   "source": [
    "print(f\"But there are also {sum(df_random.doc_misassigned)} other misclassifications. Let's take those also into account\")\n",
    "\n",
    "_tmp = df_random.copy()\n",
    "_tmp.loc[df.cluster_type=='topic', 'doc_misassigned'] =1\n",
    "_tmp = _tmp.groupby(_tmp.doc_misassigned.apply(lambda x: not bool(x))).size()"
   ]
  },
  {
   "cell_type": "code",
   "execution_count": 105,
   "metadata": {},
   "outputs": [
    {
     "name": "stdout",
     "output_type": "stream",
     "text": [
      "We could thus say that that there os a precision of  0.89\n"
     ]
    }
   ],
   "source": [
    "print(f\"We could thus say that that there os a precision of  {_tmp.iloc[1]/_tmp.sum():.2f}\")"
   ]
  },
  {
   "cell_type": "code",
   "execution_count": 42,
   "metadata": {},
   "outputs": [
    {
     "data": {
      "text/plain": [
       "0"
      ]
     },
     "execution_count": 42,
     "metadata": {},
     "output_type": "execute_result"
    }
   ],
   "source": [
    "sum(df_largest.doc_misassigned)\n"
   ]
  },
  {
   "cell_type": "code",
   "execution_count": 43,
   "metadata": {},
   "outputs": [
    {
     "data": {
      "text/plain": [
       "2"
      ]
     },
     "execution_count": 43,
     "metadata": {},
     "output_type": "execute_result"
    }
   ],
   "source": [
    "sum(df_random.doc_misassigned)\n"
   ]
  }
 ],
 "metadata": {
  "kernelspec": {
   "display_name": "Python 3",
   "language": "python",
   "name": "python3"
  },
  "language_info": {
   "codemirror_mode": {
    "name": "ipython",
    "version": 3
   },
   "file_extension": ".py",
   "mimetype": "text/x-python",
   "name": "python",
   "nbconvert_exporter": "python",
   "pygments_lexer": "ipython3",
   "version": "3.8.10"
  }
 },
 "nbformat": 4,
 "nbformat_minor": 4
}
