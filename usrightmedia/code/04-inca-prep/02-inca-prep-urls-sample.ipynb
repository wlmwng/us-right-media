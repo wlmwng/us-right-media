{
 "cells": [
  {
   "cell_type": "markdown",
   "id": "cc75beba-c2f4-4c35-84b4-df7e834c3968",
   "metadata": {},
   "source": [
    "# INCA Scrapers: Test with Sample of Media Cloud URLs\n",
    "**Purpose**: \n",
    "- Test scrapers in INCA using Kibana's Discover and Dashboard"
   ]
  },
  {
   "cell_type": "code",
   "execution_count": 1,
   "id": "54a32a7f-9329-41c3-8842-2e447dc266c2",
   "metadata": {},
   "outputs": [],
   "source": [
    "import os\n",
    "import pandas as pd\n",
    "import datetime"
   ]
  },
  {
   "cell_type": "code",
   "execution_count": 2,
   "id": "ce94f662-43f8-407a-b59d-e32d7c210637",
   "metadata": {},
   "outputs": [
    {
     "name": "stderr",
     "output_type": "stream",
     "text": [
      "WARNING:INCA:$DISPLAY environment variable is not set, trying a different approach. You probably are running INCA on a text console, right?\n",
      "WARNING:INCA:$DISPLAY environment variable is not set, trying a different approach. You probably are running INCA on a text console, right?\n"
     ]
    }
   ],
   "source": [
    "from inca import Inca"
   ]
  },
  {
   "cell_type": "code",
   "execution_count": 3,
   "id": "21c5180a-7a65-42db-8630-618fd90c7368",
   "metadata": {},
   "outputs": [],
   "source": [
    "from usrightmedia.shared.loggers import get_logger\n",
    "LOGGER = get_logger(filename = '02-mediacloud-sample', logger_type='main')"
   ]
  },
  {
   "cell_type": "markdown",
   "id": "0b3ed8ec-f8a4-4ad8-a923-f50b3dd9235b",
   "metadata": {},
   "source": [
    "## Reference: show outlets"
   ]
  },
  {
   "cell_type": "code",
   "execution_count": 4,
   "id": "dc70e9b4-4a97-4134-be45-0478061f725e",
   "metadata": {},
   "outputs": [],
   "source": [
    "from usrightmedia.shared.media_references import get_mediacloud_outlet_ids"
   ]
  },
  {
   "cell_type": "code",
   "execution_count": 5,
   "id": "96790591-7f3b-4d2c-8411-cedaeeb9d9c4",
   "metadata": {},
   "outputs": [
    {
     "data": {
      "text/html": [
       "<div>\n",
       "<style scoped>\n",
       "    .dataframe tbody tr th:only-of-type {\n",
       "        vertical-align: middle;\n",
       "    }\n",
       "\n",
       "    .dataframe tbody tr th {\n",
       "        vertical-align: top;\n",
       "    }\n",
       "\n",
       "    .dataframe thead th {\n",
       "        text-align: right;\n",
       "    }\n",
       "</style>\n",
       "<table border=\"1\" class=\"dataframe\">\n",
       "  <thead>\n",
       "    <tr style=\"text-align: right;\">\n",
       "      <th></th>\n",
       "      <th>outlet</th>\n",
       "      <th>media_id</th>\n",
       "    </tr>\n",
       "  </thead>\n",
       "  <tbody>\n",
       "    <tr>\n",
       "      <th>0</th>\n",
       "      <td>American Renaissance</td>\n",
       "      <td>26186</td>\n",
       "    </tr>\n",
       "    <tr>\n",
       "      <th>1</th>\n",
       "      <td>Breitbart</td>\n",
       "      <td>19334</td>\n",
       "    </tr>\n",
       "    <tr>\n",
       "      <th>2</th>\n",
       "      <td>Daily Caller</td>\n",
       "      <td>18775</td>\n",
       "    </tr>\n",
       "    <tr>\n",
       "      <th>3</th>\n",
       "      <td>Daily Stormer</td>\n",
       "      <td>113988</td>\n",
       "    </tr>\n",
       "    <tr>\n",
       "      <th>4</th>\n",
       "      <td>Fox News</td>\n",
       "      <td>1092</td>\n",
       "    </tr>\n",
       "    <tr>\n",
       "      <th>5</th>\n",
       "      <td>Gateway Pundit</td>\n",
       "      <td>25444</td>\n",
       "    </tr>\n",
       "    <tr>\n",
       "      <th>6</th>\n",
       "      <td>InfoWars</td>\n",
       "      <td>18515</td>\n",
       "    </tr>\n",
       "    <tr>\n",
       "      <th>7</th>\n",
       "      <td>Newsmax</td>\n",
       "      <td>25349</td>\n",
       "    </tr>\n",
       "    <tr>\n",
       "      <th>8</th>\n",
       "      <td>One America News</td>\n",
       "      <td>127733</td>\n",
       "    </tr>\n",
       "    <tr>\n",
       "      <th>9</th>\n",
       "      <td>Rush Limbaugh</td>\n",
       "      <td>24669</td>\n",
       "    </tr>\n",
       "    <tr>\n",
       "      <th>10</th>\n",
       "      <td>Sean Hannity</td>\n",
       "      <td>28136</td>\n",
       "    </tr>\n",
       "    <tr>\n",
       "      <th>11</th>\n",
       "      <td>VDARE</td>\n",
       "      <td>24641</td>\n",
       "    </tr>\n",
       "    <tr>\n",
       "      <th>12</th>\n",
       "      <td>Washington Examiner</td>\n",
       "      <td>6443</td>\n",
       "    </tr>\n",
       "  </tbody>\n",
       "</table>\n",
       "</div>"
      ],
      "text/plain": [
       "                  outlet media_id\n",
       "0   American Renaissance    26186\n",
       "1              Breitbart    19334\n",
       "2           Daily Caller    18775\n",
       "3          Daily Stormer   113988\n",
       "4               Fox News     1092\n",
       "5         Gateway Pundit    25444\n",
       "6               InfoWars    18515\n",
       "7                Newsmax    25349\n",
       "8       One America News   127733\n",
       "9          Rush Limbaugh    24669\n",
       "10          Sean Hannity    28136\n",
       "11                 VDARE    24641\n",
       "12   Washington Examiner     6443"
      ]
     },
     "execution_count": 5,
     "metadata": {},
     "output_type": "execute_result"
    }
   ],
   "source": [
    "get_mediacloud_outlet_ids()"
   ]
  },
  {
   "cell_type": "markdown",
   "id": "eebc6f38-9ada-4a0b-a465-8b44f70df9ae",
   "metadata": {},
   "source": [
    "## Instantiate INCA"
   ]
  },
  {
   "cell_type": "code",
   "execution_count": 6,
   "id": "f0460535-39e3-4c1c-8b36-64ee26bc8c94",
   "metadata": {},
   "outputs": [],
   "source": [
    "myinca = Inca()"
   ]
  },
  {
   "cell_type": "markdown",
   "id": "7a12e53c-3a94-4334-8a3c-51e2f8bc0500",
   "metadata": {},
   "source": [
    "## Load sample data"
   ]
  },
  {
   "cell_type": "code",
   "execution_count": 7,
   "id": "c7df31e4-c8fc-42d2-97b7-33fde3aa7d4a",
   "metadata": {},
   "outputs": [],
   "source": [
    "dir_sample = os.path.join('..', '..', 'data', '02-intermediate', '03-mediacloud-sample')"
   ]
  },
  {
   "cell_type": "code",
   "execution_count": 8,
   "id": "1ee60e1a-19e1-4ff3-95a1-4c2715a6d76b",
   "metadata": {},
   "outputs": [],
   "source": [
    "df_sample = pd.read_pickle(os.path.join(dir_sample, 'mediacloud_urls_sampled_with_alt_url.pkl'))"
   ]
  },
  {
   "cell_type": "code",
   "execution_count": 9,
   "id": "299e3c6c-a644-4bae-b1dd-dafe2cf52a5c",
   "metadata": {},
   "outputs": [],
   "source": [
    "urls_to_fetch = df_sample.to_dict(\"records\")"
   ]
  },
  {
   "cell_type": "code",
   "execution_count": 10,
   "id": "f8e4c9a7-a68b-4802-8868-2a8c01baba70",
   "metadata": {},
   "outputs": [
    {
     "data": {
      "text/plain": [
       "{'url_id': '590133932',\n",
       " 'outlet': 'Daily Caller',\n",
       " 'publish_date': Timestamp('2017-03-06 22:59:43+0000', tz='UTC'),\n",
       " 'title': 'Is Conservative Criticism Of GOP Obamacare Proposal Putting Repeal At Risk?',\n",
       " 'url': 'http://dailycaller.com/2017/03/06/is-conservative-criticism-of-gop-obamacare-proposal-putting-repeal-at-risk/',\n",
       " 'alt_url': '',\n",
       " 'ap_syndicated': False,\n",
       " 'themes': ''}"
      ]
     },
     "execution_count": 10,
     "metadata": {},
     "output_type": "execute_result"
    }
   ],
   "source": [
    "urls_to_fetch[0]"
   ]
  },
  {
   "cell_type": "markdown",
   "id": "25d45257-0b3a-4b76-94d5-87ba3cf69c46",
   "metadata": {},
   "source": [
    "## Define function for scraping a URL based on its outlet"
   ]
  },
  {
   "cell_type": "code",
   "execution_count": 11,
   "id": "2ef8ff01-a975-4833-a038-7abeb33a951d",
   "metadata": {},
   "outputs": [],
   "source": [
    "def scrape(url_dict):\n",
    "    \"\"\"Collect a URL using the appropriate scraper in INCA.\n",
    "    Args:\n",
    "        url_dict\n",
    "        \n",
    "        Example:\n",
    "        {'url_id': '1565840471',\n",
    "         'outlet': 'Gateway Pundit',\n",
    "         'publish_date': Timestamp('2020-04-01 17:00:59+0000', tz='UTC'),\n",
    "         'title': 'Joe Biden Appears To Be Reading From Note Cards During Media Spot (VIDEO)',\n",
    "         'url': 'https://www.thegatewaypundit.com/2020/04/joe-biden-appears-to-be-reading-from-note-cards-during-media-spot-video/',\n",
    "         'alt_url': '',\n",
    "         'ap_syndicated': False,\n",
    "         'themes': ''}\n",
    "         \n",
    "    Returns:\n",
    "        None\n",
    "        *URL's info is stored as a document in Elasticsearch\n",
    "    \"\"\"\n",
    "    \n",
    "    myinca = Inca()\n",
    "    \n",
    "    d = url_dict\n",
    "    url_id = d['url_id']\n",
    "    outlet = d['outlet']\n",
    "    \n",
    "    es_id = f\"{outlet.replace(' ', '')}_{url_id}\"\n",
    "    \n",
    "    if myinca.database.check_exists(es_id)[0]:\n",
    "        LOGGER.info(f\"URL with es_id {es_id} already exists; skip.\")\n",
    "    \n",
    "    else:\n",
    "        LOGGER.info(f\"Collecting {es_id}...\")\n",
    "        \n",
    "        if outlet == \"American Renaissance\":\n",
    "            myinca.usmedia_scrapers.americanrenaissance(url_info=d)\n",
    "\n",
    "        elif outlet == \"Breitbart\":\n",
    "            myinca.usmedia_scrapers.breitbart(url_info=d)\n",
    "\n",
    "        elif outlet == \"Daily Caller\":\n",
    "            myinca.usmedia_scrapers.dailycaller(url_info=d)\n",
    "\n",
    "        elif outlet == \"Daily Stormer\":\n",
    "            myinca.usmedia_scrapers.dailystormer(url_info=d)\n",
    "\n",
    "        elif outlet == \"Fox News\":\n",
    "            myinca.usmedia_scrapers.foxnews(url_info=d)\n",
    "\n",
    "        elif outlet == \"Gateway Pundit\":\n",
    "            myinca.usmedia_scrapers.gatewaypundit(url_info=d)\n",
    "\n",
    "        elif outlet == \"InfoWars\":\n",
    "            myinca.usmedia_scrapers.infowars(url_info=d)\n",
    "\n",
    "        elif outlet == \"Newsmax\":\n",
    "            myinca.usmedia_scrapers.newsmax(url_info=d)\n",
    "\n",
    "        elif outlet == \"One America News\":\n",
    "            myinca.usmedia_scrapers.oneamericanews(url_info=d)\n",
    "\n",
    "        elif outlet == \"Rush Limbaugh\":\n",
    "            myinca.usmedia_scrapers.rushlimbaugh(url_info=d)\n",
    "\n",
    "        elif outlet == \"Sean Hannity\":\n",
    "            myinca.usmedia_scrapers.seanhannity(url_info=d)\n",
    "\n",
    "        elif outlet == \"VDARE\":\n",
    "            myinca.usmedia_scrapers.vdare(url_info=d)\n",
    "\n",
    "        elif outlet == \"Washington Examiner\":\n",
    "            myinca.usmedia_scrapers.washingtonexaminer(url_info=d)\n",
    "            \n",
    "        LOGGER.info(f\"Finished collecting {es_id}.\")"
   ]
  },
  {
   "cell_type": "code",
   "execution_count": 13,
   "id": "fbdd339e-e2a6-46c2-bcd8-41eb7ca7675e",
   "metadata": {},
   "outputs": [],
   "source": [
    "print(f\"starting fetch: {datetime.datetime.now()}\")\n",
    "for n, url in enumerate(urls_to_fetch):\n",
    "    print(f\"fetching url {n}: {url['url']}\")\n",
    "    scrape(url)\n",
    "print(f\"ending fetch: {datetime.datetime.now()}\")"
   ]
  }
 ],
 "metadata": {
  "kernelspec": {
   "display_name": "Python 3",
   "language": "python",
   "name": "python3"
  },
  "language_info": {
   "codemirror_mode": {
    "name": "ipython",
    "version": 3
   },
   "file_extension": ".py",
   "mimetype": "text/x-python",
   "name": "python",
   "nbconvert_exporter": "python",
   "pygments_lexer": "ipython3",
   "version": "3.9.5"
  }
 },
 "nbformat": 4,
 "nbformat_minor": 5
}
