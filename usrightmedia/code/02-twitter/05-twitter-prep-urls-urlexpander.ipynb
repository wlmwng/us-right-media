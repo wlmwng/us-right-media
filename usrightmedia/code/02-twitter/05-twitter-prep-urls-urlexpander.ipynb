{
 "cells": [
  {
   "cell_type": "markdown",
   "metadata": {},
   "source": [
    "## Expanded URLs\n",
    "**Purpose**: \n",
    "- Process the expanded version of the URLs were (re-)tweeted by congressional Republicans during 2016-2020.\n",
    "- Note: this project uses a [forked version of urlExpander](https://github.com/wlmwng/urlExpander)."
   ]
  },
  {
   "cell_type": "code",
   "execution_count": 1,
   "metadata": {},
   "outputs": [],
   "source": [
    "import os\n",
    "import json\n",
    "import pandas as pd\n",
    "import plotnine as p9\n",
    "import urlexpander\n",
    "from mizani.breaks import date_breaks\n",
    "from mizani.formatters import date_format"
   ]
  },
  {
   "cell_type": "code",
   "execution_count": 2,
   "metadata": {},
   "outputs": [],
   "source": [
    "dir_fig = os.path.join(\"..\", \"..\", \"figures\")\n",
    "dir_url = os.path.join('..', '..', 'data', '02-intermediate', '02-twitter')\n",
    "urls = pd.read_pickle(os.path.join(dir_url, f'politicians_tweeted_urls.pkl'))"
   ]
  },
  {
   "cell_type": "markdown",
   "metadata": {},
   "source": [
    "### Load default version of expanded URLs"
   ]
  },
  {
   "cell_type": "code",
   "execution_count": null,
   "metadata": {},
   "outputs": [],
   "source": [
    "urls = pd.read_pickle(os.path.join(dir_url, f\"politicians_tweeted_urls_resolved.pkl\"))"
   ]
  },
  {
   "cell_type": "markdown",
   "metadata": {},
   "source": [
    "### TODO (after revised version of expansion finishes)\n",
    "- Load expanded URLs from cache\n",
    "- Select the URL version for URL matching\n",
    "- Remove existing `tweets2_url` documents and then re-add\n",
    "- Re-run the URL matching processor"
   ]
  },
  {
   "cell_type": "code",
   "execution_count": 3,
   "metadata": {},
   "outputs": [],
   "source": [
    "cache = []\n",
    "with open(os.path.join(dir_url, \"urlexpander_cache.jsonl\")) as f:\n",
    "    for line in f:\n",
    "        cache.append(json.loads(line))"
   ]
  },
  {
   "cell_type": "code",
   "execution_count": 4,
   "metadata": {},
   "outputs": [
    {
     "data": {
      "text/plain": [
       "{'original_url': 'https://youtu.be/7_l8Rb7xMPc',\n",
       " 'resolved_url': 'https://www.youtube.com/watch?v=7_l8Rb7xMPc&feature=youtu.be',\n",
       " 'resolved_domain': 'youtube.com'}"
      ]
     },
     "execution_count": 4,
     "metadata": {},
     "output_type": "execute_result"
    }
   ],
   "source": [
    "cache[-1]"
   ]
  },
  {
   "cell_type": "code",
   "execution_count": 5,
   "metadata": {},
   "outputs": [
    {
     "data": {
      "text/html": [
       "<div>\n",
       "<style scoped>\n",
       "    .dataframe tbody tr th:only-of-type {\n",
       "        vertical-align: middle;\n",
       "    }\n",
       "\n",
       "    .dataframe tbody tr th {\n",
       "        vertical-align: top;\n",
       "    }\n",
       "\n",
       "    .dataframe thead th {\n",
       "        text-align: right;\n",
       "    }\n",
       "</style>\n",
       "<table border=\"1\" class=\"dataframe\">\n",
       "  <thead>\n",
       "    <tr style=\"text-align: right;\">\n",
       "      <th></th>\n",
       "      <th>original_url</th>\n",
       "      <th>resolved_url</th>\n",
       "      <th>resolved_domain</th>\n",
       "    </tr>\n",
       "  </thead>\n",
       "  <tbody>\n",
       "    <tr>\n",
       "      <th>0</th>\n",
       "      <td>https://mullin.house.gov/news/documentsingle.a...</td>\n",
       "      <td>https://mullin.house.gov/news/documentsingle.a...</td>\n",
       "      <td>house.gov</td>\n",
       "    </tr>\n",
       "    <tr>\n",
       "      <th>1</th>\n",
       "      <td>https://byrne.house.gov/spring-2017-internship</td>\n",
       "      <td>http://byrne.house.gov/__CONNECTIONPOOL_ERROR__</td>\n",
       "      <td>byrne.house.gov</td>\n",
       "    </tr>\n",
       "    <tr>\n",
       "      <th>2</th>\n",
       "      <td>https://www.instagram.com/p/BL4QdKqh9zG/</td>\n",
       "      <td>http://instagram.com/__CLIENT_ERROR__</td>\n",
       "      <td>instagram.com</td>\n",
       "    </tr>\n",
       "    <tr>\n",
       "      <th>3</th>\n",
       "      <td>https://www.politico.com/agenda/story/2018/01/...</td>\n",
       "      <td>https://www.politico.com/agenda/story/2018/01/...</td>\n",
       "      <td>politico.com</td>\n",
       "    </tr>\n",
       "    <tr>\n",
       "      <th>4</th>\n",
       "      <td>https://www.augustachronicle.com/opinion/20200...</td>\n",
       "      <td>https://eu.augustachronicle.com/</td>\n",
       "      <td>augustachronicle.com</td>\n",
       "    </tr>\n",
       "    <tr>\n",
       "      <th>...</th>\n",
       "      <td>...</td>\n",
       "      <td>...</td>\n",
       "      <td>...</td>\n",
       "    </tr>\n",
       "    <tr>\n",
       "      <th>2271</th>\n",
       "      <td>https://bit.ly/2JuhHWM</td>\n",
       "      <td>https://www.heartland.org/news-opinion/news/pr...</td>\n",
       "      <td>heartland.org</td>\n",
       "    </tr>\n",
       "    <tr>\n",
       "      <th>2272</th>\n",
       "      <td>http://facebook.com/RepBrianMast/videos/184795...</td>\n",
       "      <td>https://www.facebook.com/RepBrianMast/videos/1...</td>\n",
       "      <td>facebook.com</td>\n",
       "    </tr>\n",
       "    <tr>\n",
       "      <th>2273</th>\n",
       "      <td>http://bit.ly/2m7gy9a</td>\n",
       "      <td>https://biggs.house.gov/media/press-releases/c...</td>\n",
       "      <td>house.gov</td>\n",
       "    </tr>\n",
       "    <tr>\n",
       "      <th>2274</th>\n",
       "      <td>http://omaha.com/news/nation/trump-s-remarks-m...</td>\n",
       "      <td>http://omaha.com/__CLIENT_ERROR__</td>\n",
       "      <td>omaha.com</td>\n",
       "    </tr>\n",
       "    <tr>\n",
       "      <th>2275</th>\n",
       "      <td>https://youtu.be/7_l8Rb7xMPc</td>\n",
       "      <td>https://www.youtube.com/watch?v=7_l8Rb7xMPc&amp;fe...</td>\n",
       "      <td>youtube.com</td>\n",
       "    </tr>\n",
       "  </tbody>\n",
       "</table>\n",
       "<p>2276 rows × 3 columns</p>\n",
       "</div>"
      ],
      "text/plain": [
       "                                           original_url  \\\n",
       "0     https://mullin.house.gov/news/documentsingle.a...   \n",
       "1        https://byrne.house.gov/spring-2017-internship   \n",
       "2              https://www.instagram.com/p/BL4QdKqh9zG/   \n",
       "3     https://www.politico.com/agenda/story/2018/01/...   \n",
       "4     https://www.augustachronicle.com/opinion/20200...   \n",
       "...                                                 ...   \n",
       "2271                             https://bit.ly/2JuhHWM   \n",
       "2272  http://facebook.com/RepBrianMast/videos/184795...   \n",
       "2273                              http://bit.ly/2m7gy9a   \n",
       "2274  http://omaha.com/news/nation/trump-s-remarks-m...   \n",
       "2275                       https://youtu.be/7_l8Rb7xMPc   \n",
       "\n",
       "                                           resolved_url       resolved_domain  \n",
       "0     https://mullin.house.gov/news/documentsingle.a...             house.gov  \n",
       "1       http://byrne.house.gov/__CONNECTIONPOOL_ERROR__       byrne.house.gov  \n",
       "2                 http://instagram.com/__CLIENT_ERROR__         instagram.com  \n",
       "3     https://www.politico.com/agenda/story/2018/01/...          politico.com  \n",
       "4                      https://eu.augustachronicle.com/  augustachronicle.com  \n",
       "...                                                 ...                   ...  \n",
       "2271  https://www.heartland.org/news-opinion/news/pr...         heartland.org  \n",
       "2272  https://www.facebook.com/RepBrianMast/videos/1...          facebook.com  \n",
       "2273  https://biggs.house.gov/media/press-releases/c...             house.gov  \n",
       "2274                  http://omaha.com/__CLIENT_ERROR__             omaha.com  \n",
       "2275  https://www.youtube.com/watch?v=7_l8Rb7xMPc&fe...           youtube.com  \n",
       "\n",
       "[2276 rows x 3 columns]"
      ]
     },
     "execution_count": 5,
     "metadata": {},
     "output_type": "execute_result"
    }
   ],
   "source": [
    "urls = pd.DataFrame(cache)\n",
    "urls"
   ]
  },
  {
   "cell_type": "code",
   "execution_count": 6,
   "metadata": {},
   "outputs": [],
   "source": [
    "def select_url(row):\n",
    "    \"\"\"Select the URL which will be processed for URL matching\"\"\"\n",
    "    if \"ERROR\" in row[\"resolved_url\"]:\n",
    "        resolved_url = row[\"original_url\"]\n",
    "    else:\n",
    "        resolved_url = row[\"resolved_url\"]\n",
    "    return resolved_url"
   ]
  },
  {
   "cell_type": "code",
   "execution_count": 7,
   "metadata": {},
   "outputs": [],
   "source": [
    "urls[\"selected_url\"] = urls.apply(lambda r: select_url(r), axis=1)"
   ]
  },
  {
   "cell_type": "code",
   "execution_count": 8,
   "metadata": {},
   "outputs": [
    {
     "data": {
      "text/html": [
       "<div>\n",
       "<style scoped>\n",
       "    .dataframe tbody tr th:only-of-type {\n",
       "        vertical-align: middle;\n",
       "    }\n",
       "\n",
       "    .dataframe tbody tr th {\n",
       "        vertical-align: top;\n",
       "    }\n",
       "\n",
       "    .dataframe thead th {\n",
       "        text-align: right;\n",
       "    }\n",
       "</style>\n",
       "<table border=\"1\" class=\"dataframe\">\n",
       "  <thead>\n",
       "    <tr style=\"text-align: right;\">\n",
       "      <th></th>\n",
       "      <th>original_url</th>\n",
       "      <th>resolved_url</th>\n",
       "      <th>resolved_domain</th>\n",
       "      <th>selected_url</th>\n",
       "    </tr>\n",
       "  </thead>\n",
       "  <tbody>\n",
       "    <tr>\n",
       "      <th>0</th>\n",
       "      <td>https://mullin.house.gov/news/documentsingle.a...</td>\n",
       "      <td>https://mullin.house.gov/news/documentsingle.a...</td>\n",
       "      <td>house.gov</td>\n",
       "      <td>https://mullin.house.gov/news/documentsingle.a...</td>\n",
       "    </tr>\n",
       "    <tr>\n",
       "      <th>1</th>\n",
       "      <td>https://byrne.house.gov/spring-2017-internship</td>\n",
       "      <td>http://byrne.house.gov/__CONNECTIONPOOL_ERROR__</td>\n",
       "      <td>byrne.house.gov</td>\n",
       "      <td>https://byrne.house.gov/spring-2017-internship</td>\n",
       "    </tr>\n",
       "    <tr>\n",
       "      <th>2</th>\n",
       "      <td>https://www.instagram.com/p/BL4QdKqh9zG/</td>\n",
       "      <td>http://instagram.com/__CLIENT_ERROR__</td>\n",
       "      <td>instagram.com</td>\n",
       "      <td>https://www.instagram.com/p/BL4QdKqh9zG/</td>\n",
       "    </tr>\n",
       "    <tr>\n",
       "      <th>3</th>\n",
       "      <td>https://www.politico.com/agenda/story/2018/01/...</td>\n",
       "      <td>https://www.politico.com/agenda/story/2018/01/...</td>\n",
       "      <td>politico.com</td>\n",
       "      <td>https://www.politico.com/agenda/story/2018/01/...</td>\n",
       "    </tr>\n",
       "    <tr>\n",
       "      <th>4</th>\n",
       "      <td>https://www.augustachronicle.com/opinion/20200...</td>\n",
       "      <td>https://eu.augustachronicle.com/</td>\n",
       "      <td>augustachronicle.com</td>\n",
       "      <td>https://eu.augustachronicle.com/</td>\n",
       "    </tr>\n",
       "    <tr>\n",
       "      <th>...</th>\n",
       "      <td>...</td>\n",
       "      <td>...</td>\n",
       "      <td>...</td>\n",
       "      <td>...</td>\n",
       "    </tr>\n",
       "    <tr>\n",
       "      <th>2271</th>\n",
       "      <td>https://bit.ly/2JuhHWM</td>\n",
       "      <td>https://www.heartland.org/news-opinion/news/pr...</td>\n",
       "      <td>heartland.org</td>\n",
       "      <td>https://www.heartland.org/news-opinion/news/pr...</td>\n",
       "    </tr>\n",
       "    <tr>\n",
       "      <th>2272</th>\n",
       "      <td>http://facebook.com/RepBrianMast/videos/184795...</td>\n",
       "      <td>https://www.facebook.com/RepBrianMast/videos/1...</td>\n",
       "      <td>facebook.com</td>\n",
       "      <td>https://www.facebook.com/RepBrianMast/videos/1...</td>\n",
       "    </tr>\n",
       "    <tr>\n",
       "      <th>2273</th>\n",
       "      <td>http://bit.ly/2m7gy9a</td>\n",
       "      <td>https://biggs.house.gov/media/press-releases/c...</td>\n",
       "      <td>house.gov</td>\n",
       "      <td>https://biggs.house.gov/media/press-releases/c...</td>\n",
       "    </tr>\n",
       "    <tr>\n",
       "      <th>2274</th>\n",
       "      <td>http://omaha.com/news/nation/trump-s-remarks-m...</td>\n",
       "      <td>http://omaha.com/__CLIENT_ERROR__</td>\n",
       "      <td>omaha.com</td>\n",
       "      <td>http://omaha.com/news/nation/trump-s-remarks-m...</td>\n",
       "    </tr>\n",
       "    <tr>\n",
       "      <th>2275</th>\n",
       "      <td>https://youtu.be/7_l8Rb7xMPc</td>\n",
       "      <td>https://www.youtube.com/watch?v=7_l8Rb7xMPc&amp;fe...</td>\n",
       "      <td>youtube.com</td>\n",
       "      <td>https://www.youtube.com/watch?v=7_l8Rb7xMPc&amp;fe...</td>\n",
       "    </tr>\n",
       "  </tbody>\n",
       "</table>\n",
       "<p>2276 rows × 4 columns</p>\n",
       "</div>"
      ],
      "text/plain": [
       "                                           original_url  \\\n",
       "0     https://mullin.house.gov/news/documentsingle.a...   \n",
       "1        https://byrne.house.gov/spring-2017-internship   \n",
       "2              https://www.instagram.com/p/BL4QdKqh9zG/   \n",
       "3     https://www.politico.com/agenda/story/2018/01/...   \n",
       "4     https://www.augustachronicle.com/opinion/20200...   \n",
       "...                                                 ...   \n",
       "2271                             https://bit.ly/2JuhHWM   \n",
       "2272  http://facebook.com/RepBrianMast/videos/184795...   \n",
       "2273                              http://bit.ly/2m7gy9a   \n",
       "2274  http://omaha.com/news/nation/trump-s-remarks-m...   \n",
       "2275                       https://youtu.be/7_l8Rb7xMPc   \n",
       "\n",
       "                                           resolved_url       resolved_domain  \\\n",
       "0     https://mullin.house.gov/news/documentsingle.a...             house.gov   \n",
       "1       http://byrne.house.gov/__CONNECTIONPOOL_ERROR__       byrne.house.gov   \n",
       "2                 http://instagram.com/__CLIENT_ERROR__         instagram.com   \n",
       "3     https://www.politico.com/agenda/story/2018/01/...          politico.com   \n",
       "4                      https://eu.augustachronicle.com/  augustachronicle.com   \n",
       "...                                                 ...                   ...   \n",
       "2271  https://www.heartland.org/news-opinion/news/pr...         heartland.org   \n",
       "2272  https://www.facebook.com/RepBrianMast/videos/1...          facebook.com   \n",
       "2273  https://biggs.house.gov/media/press-releases/c...             house.gov   \n",
       "2274                  http://omaha.com/__CLIENT_ERROR__             omaha.com   \n",
       "2275  https://www.youtube.com/watch?v=7_l8Rb7xMPc&fe...           youtube.com   \n",
       "\n",
       "                                           selected_url  \n",
       "0     https://mullin.house.gov/news/documentsingle.a...  \n",
       "1        https://byrne.house.gov/spring-2017-internship  \n",
       "2              https://www.instagram.com/p/BL4QdKqh9zG/  \n",
       "3     https://www.politico.com/agenda/story/2018/01/...  \n",
       "4                      https://eu.augustachronicle.com/  \n",
       "...                                                 ...  \n",
       "2271  https://www.heartland.org/news-opinion/news/pr...  \n",
       "2272  https://www.facebook.com/RepBrianMast/videos/1...  \n",
       "2273  https://biggs.house.gov/media/press-releases/c...  \n",
       "2274  http://omaha.com/news/nation/trump-s-remarks-m...  \n",
       "2275  https://www.youtube.com/watch?v=7_l8Rb7xMPc&fe...  \n",
       "\n",
       "[2276 rows x 4 columns]"
      ]
     },
     "execution_count": 8,
     "metadata": {},
     "output_type": "execute_result"
    }
   ],
   "source": [
    "urls"
   ]
  },
  {
   "cell_type": "markdown",
   "metadata": {},
   "source": [
    "### Process selected URL"
   ]
  },
  {
   "cell_type": "code",
   "execution_count": null,
   "metadata": {},
   "outputs": [],
   "source": [
    "urls.columns"
   ]
  },
  {
   "cell_type": "code",
   "execution_count": null,
   "metadata": {},
   "outputs": [],
   "source": [
    "urls['resolved_netloc'] = urls['resolved_url'].map(lambda x: urlexpander.url_utils.standardize_url(url=x,\n",
    "                                                                                                   remove_scheme=True,\n",
    "                                                                                                   replace_netloc_with_domain=False,\n",
    "                                                                                                   remove_path=True,\n",
    "                                                                                                   remove_query=True,\n",
    "                                                                                                   remove_fragment=True,\n",
    "                                                                                                   to_lowercase=True,))\n",
    "urls['resolved_domain'] = urls['resolved_url'].map(lambda x: urlexpander.url_utils.get_domain(url=x))\n",
    "urls['standardized_url'] = urls['resolved_url'].map(lambda x: urlexpander.url_utils.standardize_url(url=x,\n",
    "                                                                                                    remove_scheme=True,\n",
    "                                                                                                    replace_netloc_with_domain=False,\n",
    "                                                                                                    remove_path=False,\n",
    "                                                                                                    remove_query=False,\n",
    "                                                                                                    remove_fragment=True,\n",
    "                                                                                                    to_lowercase=True,))\n",
    "urls['is_generic_url'] = urls['resolved_url'].map(lambda x: urlexpander.url_utils.is_generic_url(x))"
   ]
  },
  {
   "cell_type": "code",
   "execution_count": null,
   "metadata": {},
   "outputs": [],
   "source": [
    "def extract_error(resolved_url):\n",
    "    if 'CLIENT_ERROR' in resolved_url:\n",
    "        res = 'CLIENT_ERROR'\n",
    "    elif 'CONNECTIONPOOL_ERROR' in resolved_url:\n",
    "        res = 'CONNECTIONPOOL_ERROR'\n",
    "    else:\n",
    "        res = 'no error'\n",
    "    return res"
   ]
  },
  {
   "cell_type": "code",
   "execution_count": null,
   "metadata": {},
   "outputs": [],
   "source": [
    "urls['urlexpander_error'] = urls['resolved_url'].map(lambda x: extract_error(x))"
   ]
  },
  {
   "cell_type": "markdown",
   "metadata": {},
   "source": [
    "- export the URLs"
   ]
  },
  {
   "cell_type": "code",
   "execution_count": null,
   "metadata": {},
   "outputs": [],
   "source": [
    "urls = urls[['tweet_id', 'created_at', 'created_week', 'created_month',\n",
    "             'created_year', 'text', 'author_id', 'username', 'tweet_url', 'url_id',\n",
    "             'url', 'expanded_url', 'display_url', 'unwound_url',\n",
    "             'most_unrolled_url', 'most_unrolled_field', 'is_dupe',\n",
    "             'is_from_tw', 'resolved_url', 'resolved_netloc', 'resolved_domain',\n",
    "             'standardized_url', 'is_generic_url', 'urlexpander_error']]\n",
    "\n",
    "urls.to_pickle(os.path.join(dir_url, f'politicians_tweeted_urls_urlexpander.pkl'))"
   ]
  },
  {
   "cell_type": "markdown",
   "metadata": {},
   "source": [
    "- spot-check the URLs"
   ]
  },
  {
   "cell_type": "code",
   "execution_count": null,
   "metadata": {},
   "outputs": [],
   "source": [
    "urls = pd.read_pickle(os.path.join(dir_url, f'politicians_tweeted_urls_urlexpander.pkl'))"
   ]
  },
  {
   "cell_type": "code",
   "execution_count": null,
   "metadata": {},
   "outputs": [],
   "source": [
    "# examples of generic URLs\n",
    "with pd.option_context(\"display.max_rows\", None, \"display.max_colwidth\", None):\n",
    "    display(\n",
    "        urls.loc[urls[\"is_generic_url\"]][\n",
    "            [\n",
    "                \"most_unrolled_url\",\n",
    "                \"resolved_url\",\n",
    "                \"standardized_url\",\n",
    "                \"is_generic_url\",\n",
    "            ]\n",
    "        ].sample(n=100, random_state=42)\n",
    "    )\n"
   ]
  },
  {
   "cell_type": "code",
   "execution_count": null,
   "metadata": {},
   "outputs": [],
   "source": [
    "with pd.option_context('display.max_rows', None, 'display.max_colwidth', None):\n",
    "    display(urls[['resolved_url', 'standardized_url', 'is_generic_url']].sample(n=100, random_state=42))"
   ]
  },
  {
   "cell_type": "code",
   "execution_count": null,
   "metadata": {},
   "outputs": [],
   "source": [
    "plt = (p9.ggplot(urls, p9.aes(x='created_week'))\n",
    "+ p9.geom_line(p9.aes(color='urlexpander_error'), stat='count')\n",
    "+ p9.scale_x_datetime(name='',\n",
    "                      breaks=date_breaks('2 years'),\n",
    "                      labels=date_format('%Y'))\n",
    "+ p9.theme(figure_size=(6,3),\n",
    "           legend_position='right',\n",
    "           subplots_adjust={'hspace':0.5})\n",
    "+ p9.labs(title = f\"Expansion of tweeted URLs\"))\n",
    "\n",
    "plt"
   ]
  },
  {
   "cell_type": "code",
   "execution_count": null,
   "metadata": {},
   "outputs": [],
   "source": [
    "# count of retrieved URLs per outlet by month from 2016 - 2020\n",
    "# plt.save(os.path.join(dir_fig, 'c0204_urlExpander_timeline.svg'))"
   ]
  }
 ],
 "metadata": {
  "interpreter": {
   "hash": "489b3f76e79a41abcd959e6c959c893d49f1aca67efb4576989581502f23d0f7"
  },
  "kernelspec": {
   "display_name": "Python 3.8 (usrightmedia)",
   "language": "python",
   "name": "usrightmedia"
  },
  "language_info": {
   "codemirror_mode": {
    "name": "ipython",
    "version": 3
   },
   "file_extension": ".py",
   "mimetype": "text/x-python",
   "name": "python",
   "nbconvert_exporter": "python",
   "pygments_lexer": "ipython3",
   "version": "3.8.12"
  }
 },
 "nbformat": 4,
 "nbformat_minor": 4
}
