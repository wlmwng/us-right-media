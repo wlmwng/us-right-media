{
 "cells": [
  {
   "cell_type": "markdown",
   "metadata": {},
   "source": [
    "# 02-twitter-prep-inca\n",
    "**Purpose**:  collect politicians' timelines on Twitter."
   ]
  },
  {
   "cell_type": "code",
   "execution_count": 1,
   "metadata": {},
   "outputs": [
    {
     "name": "stderr",
     "output_type": "stream",
     "text": [
      "WARNING:INCA:$DISPLAY environment variable is not set, trying a different approach. You probably are running INCA on a text console, right?\n",
      "WARNING:INCA:$DISPLAY environment variable is not set, trying a different approach. You probably are running INCA on a text console, right?\n"
     ]
    }
   ],
   "source": [
    "import os\n",
    "\n",
    "from inca import Inca\n",
    "\n",
    "dir_inp = os.path.join('..', '..', 'data', '02-intermediate', '01-congress-legislators')\n",
    "import pandas as pd\n",
    "from usrightmedia.shared.datetime_utils import (END_TIME, END_TIME_TEST,\n",
    "                                             START_TIME, START_TIME_TEST)"
   ]
  },
  {
   "cell_type": "code",
   "execution_count": 2,
   "metadata": {},
   "outputs": [],
   "source": [
    "from usrightmedia.shared.loggers import get_logger\n",
    "LOGGER = get_logger(filename = '02-twitter-prep-inca', logger_type='main')"
   ]
  },
  {
   "cell_type": "code",
   "execution_count": 3,
   "metadata": {},
   "outputs": [
    {
     "name": "stdout",
     "output_type": "stream",
     "text": [
      "number of Twitter screen_names to scrape: 377\n"
     ]
    }
   ],
   "source": [
    "# list of politicians' Twitter screen_names\n",
    "screen_names =  list(pd.read_pickle(os.path.join(dir_inp, 'politicians-republican.pkl'))['twitter'])\n",
    "# remove None values (i.e. politician doesn't have a Twitter account)\n",
    "screen_names = sorted([p for p in screen_names if p])\n",
    "print(f\"number of Twitter screen_names to scrape: {len(screen_names)}\")"
   ]
  },
  {
   "cell_type": "code",
   "execution_count": null,
   "metadata": {},
   "outputs": [],
   "source": [
    "screen_names = screen_names\n",
    "print(screen_names)"
   ]
  },
  {
   "cell_type": "code",
   "execution_count": 5,
   "metadata": {},
   "outputs": [],
   "source": [
    "myinca = Inca()\n",
    "LOGGER.info(f\"{myinca.database.list_apps()}\") # check that the 'usrightmedia' app exists\n",
    "# myinca.database.delete_doctype('tweets2')"
   ]
  },
  {
   "cell_type": "code",
   "execution_count": 6,
   "metadata": {},
   "outputs": [],
   "source": [
    "def retrieve_user_timeline(screen_name, app_name='usrightmedia'):\n",
    "    \"\"\"retrieve tweets from specified start_time to end_time\n",
    "\n",
    "    Args:\n",
    "        screen_name (str): Twitter screen_name\n",
    "        app_name (str): name of Twitter v2 app in INCA\n",
    "\n",
    "    Returns:\n",
    "        None\n",
    "        - each tweet is stored as a doc in INCA's Elasticsearch database\n",
    "        - doc['_source'] contains the tweet payload\n",
    "        - the doc's doctype in ES is 'tweets2'\n",
    "    \n",
    "    \"\"\"\n",
    "    myinca.clients.twitter2_timeline(\n",
    "        app=app_name,\n",
    "        screen_name=screen_name,\n",
    "        start_time=START_TIME,\n",
    "        end_time=END_TIME\n",
    "    )"
   ]
  },
  {
   "cell_type": "code",
   "execution_count": 8,
   "metadata": {},
   "outputs": [],
   "source": [
    "LOGGER.info(f\"Start collection of Twitter account timelines\")\n",
    "\n",
    "for n, screen_name in enumerate(screen_names):\n",
    "    count = n + 1\n",
    "    LOGGER.info(f\"Collecting {count} of {len(screen_names)}: {screen_name}\")\n",
    "    retrieve_user_timeline(screen_name)\n",
    "\n",
    "LOGGER.info(f\"Completed collection of Twitter account timelines\")"
   ]
  }
 ],
 "metadata": {
  "interpreter": {
   "hash": "dd43d351af792a8a2d3bed576ed992c22af60aaa9b7bcbf49f8a265b549672e7"
  },
  "kernelspec": {
   "display_name": "Python 3 (ipykernel)",
   "language": "python",
   "name": "python3"
  },
  "language_info": {
   "codemirror_mode": {
    "name": "ipython",
    "version": 3
   },
   "file_extension": ".py",
   "mimetype": "text/x-python",
   "name": "python",
   "nbconvert_exporter": "python",
   "pygments_lexer": "ipython3",
   "version": "3.9.7"
  }
 },
 "nbformat": 4,
 "nbformat_minor": 4
}
