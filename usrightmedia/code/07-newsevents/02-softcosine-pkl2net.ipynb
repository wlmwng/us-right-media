{
 "cells": [
  {
   "cell_type": "markdown",
   "id": "bbe25d98-5ef6-4a5c-918e-4d83b9c194b4",
   "metadata": {},
   "source": [
    "## Softcosine Clusters: File Conversion (pkl2net)\n",
    "\n",
    "**Purpose**: prep for clustering by converting pickled pandas dataframes to pajek files\n",
    "- Code based on https://github.com/damian0604/newsevents/blob/master/src/data-processing/030-pkl2net.py"
   ]
  },
  {
   "cell_type": "code",
   "execution_count": 1,
   "id": "d2afb064-1a60-4a35-885f-39478dbfee47",
   "metadata": {},
   "outputs": [],
   "source": [
    "import networkx as nx\n",
    "from tqdm import tqdm\n",
    "from glob import glob\n",
    "import os\n",
    "import pickle"
   ]
  },
  {
   "cell_type": "code",
   "execution_count": 2,
   "id": "c29c9a47-0184-4f60-baed-a83e4f06b7c2",
   "metadata": {},
   "outputs": [],
   "source": [
    "pkl_dir = os.path.join(\"..\", \"..\", \"data\", \"02-intermediate\", \"07-newsevents\", \"01-softcosine-output\")\n",
    "models = [('softcosine', glob(f\"{pkl_dir}/**/*.pkl\"))]\n",
    "\n",
    "net_dir = os.path.join(\"..\", \"..\", \"data\", \"02-intermediate\", \"07-newsevents\", \"02-softcosine-pkl2net\")"
   ]
  },
  {
   "cell_type": "markdown",
   "id": "c568c79a-c4bc-4002-9c45-e406491cfa9a",
   "metadata": {},
   "source": [
    "#### Example of softcosine output"
   ]
  },
  {
   "cell_type": "code",
   "execution_count": 3,
   "id": "d3299b17-3354-44dc-bc55-190161595fdf",
   "metadata": {},
   "outputs": [],
   "source": [
    "with open(models[0][1][0], mode='rb') as fi:\n",
    "    df = pickle.load(fi)"
   ]
  },
  {
   "cell_type": "code",
   "execution_count": 4,
   "id": "b8b74fec-8703-4363-a0bf-d534433abaca",
   "metadata": {},
   "outputs": [
    {
     "data": {
      "text/html": [
       "<div>\n",
       "<style scoped>\n",
       "    .dataframe tbody tr th:only-of-type {\n",
       "        vertical-align: middle;\n",
       "    }\n",
       "\n",
       "    .dataframe tbody tr th {\n",
       "        vertical-align: top;\n",
       "    }\n",
       "\n",
       "    .dataframe thead th {\n",
       "        text-align: right;\n",
       "    }\n",
       "</style>\n",
       "<table border=\"1\" class=\"dataframe\">\n",
       "  <thead>\n",
       "    <tr style=\"text-align: right;\">\n",
       "      <th></th>\n",
       "      <th>source</th>\n",
       "      <th>target</th>\n",
       "      <th>similarity</th>\n",
       "      <th>source_date</th>\n",
       "      <th>target_date</th>\n",
       "      <th>source_doctype</th>\n",
       "      <th>target_doctype</th>\n",
       "    </tr>\n",
       "  </thead>\n",
       "  <tbody>\n",
       "    <tr>\n",
       "      <th>0</th>\n",
       "      <td>Breitbart_513186861</td>\n",
       "      <td>Breitbart_513186861</td>\n",
       "      <td>1.000000</td>\n",
       "      <td>2016-09-13T15:40:18+00:00</td>\n",
       "      <td>2016-09-13T15:40:18+00:00</td>\n",
       "      <td>breitbart</td>\n",
       "      <td>breitbart</td>\n",
       "    </tr>\n",
       "    <tr>\n",
       "      <th>59</th>\n",
       "      <td>Breitbart_513186861</td>\n",
       "      <td>Breitbart_545230952</td>\n",
       "      <td>0.230769</td>\n",
       "      <td>2016-09-13T15:40:18+00:00</td>\n",
       "      <td>2016-09-13T01:48:11+00:00</td>\n",
       "      <td>breitbart</td>\n",
       "      <td>breitbart</td>\n",
       "    </tr>\n",
       "    <tr>\n",
       "      <th>74</th>\n",
       "      <td>Breitbart_513186861</td>\n",
       "      <td>Newsmax_713072384</td>\n",
       "      <td>0.327481</td>\n",
       "      <td>2016-09-13T15:40:18+00:00</td>\n",
       "      <td>2016-09-13T00:54:23+00:00</td>\n",
       "      <td>breitbart</td>\n",
       "      <td>newsmax</td>\n",
       "    </tr>\n",
       "    <tr>\n",
       "      <th>75</th>\n",
       "      <td>Breitbart_513186861</td>\n",
       "      <td>Breitbart_512743064</td>\n",
       "      <td>0.233033</td>\n",
       "      <td>2016-09-13T15:40:18+00:00</td>\n",
       "      <td>2016-09-13T01:07:34+00:00</td>\n",
       "      <td>breitbart</td>\n",
       "      <td>breitbart</td>\n",
       "    </tr>\n",
       "    <tr>\n",
       "      <th>164</th>\n",
       "      <td>Breitbart_513186861</td>\n",
       "      <td>FoxNews_553935231</td>\n",
       "      <td>0.333716</td>\n",
       "      <td>2016-09-13T15:40:18+00:00</td>\n",
       "      <td>2016-09-13T12:00:00+00:00</td>\n",
       "      <td>breitbart</td>\n",
       "      <td>foxnews</td>\n",
       "    </tr>\n",
       "    <tr>\n",
       "      <th>...</th>\n",
       "      <td>...</td>\n",
       "      <td>...</td>\n",
       "      <td>...</td>\n",
       "      <td>...</td>\n",
       "      <td>...</td>\n",
       "      <td>...</td>\n",
       "      <td>...</td>\n",
       "    </tr>\n",
       "    <tr>\n",
       "      <th>426682</th>\n",
       "      <td>RushLimbaugh_513263320</td>\n",
       "      <td>VDARE_513726520</td>\n",
       "      <td>0.230031</td>\n",
       "      <td>2016-09-13T15:14:04+00:00</td>\n",
       "      <td>2016-09-15T05:14:24+00:00</td>\n",
       "      <td>rushlimbaugh</td>\n",
       "      <td>vdare</td>\n",
       "    </tr>\n",
       "    <tr>\n",
       "      <th>427266</th>\n",
       "      <td>WashingtonExaminer_513236237</td>\n",
       "      <td>Newsmax_713110752</td>\n",
       "      <td>0.201143</td>\n",
       "      <td>2016-09-13T00:01:00+00:00</td>\n",
       "      <td>2016-09-15T20:19:44+00:00</td>\n",
       "      <td>washingtonexaminer</td>\n",
       "      <td>newsmax</td>\n",
       "    </tr>\n",
       "    <tr>\n",
       "      <th>427268</th>\n",
       "      <td>WashingtonExaminer_513236237</td>\n",
       "      <td>OneAmericaNews_513862797</td>\n",
       "      <td>0.200890</td>\n",
       "      <td>2016-09-13T00:01:00+00:00</td>\n",
       "      <td>2016-09-15T12:35:15+00:00</td>\n",
       "      <td>washingtonexaminer</td>\n",
       "      <td>oneamericanews</td>\n",
       "    </tr>\n",
       "    <tr>\n",
       "      <th>427288</th>\n",
       "      <td>WashingtonExaminer_513236237</td>\n",
       "      <td>WashingtonExaminer_1214212377</td>\n",
       "      <td>0.212561</td>\n",
       "      <td>2016-09-13T00:01:00+00:00</td>\n",
       "      <td>2016-09-15T04:00:00+00:00</td>\n",
       "      <td>washingtonexaminer</td>\n",
       "      <td>washingtonexaminer</td>\n",
       "    </tr>\n",
       "    <tr>\n",
       "      <th>427751</th>\n",
       "      <td>WashingtonExaminer_692290795</td>\n",
       "      <td>WashingtonExaminer_513969456</td>\n",
       "      <td>0.265640</td>\n",
       "      <td>2016-09-13T08:25:00+00:00</td>\n",
       "      <td>2016-09-15T16:31:50+00:00</td>\n",
       "      <td>washingtonexaminer</td>\n",
       "      <td>washingtonexaminer</td>\n",
       "    </tr>\n",
       "  </tbody>\n",
       "</table>\n",
       "<p>3754 rows × 7 columns</p>\n",
       "</div>"
      ],
      "text/plain": [
       "                              source                         target  \\\n",
       "0                Breitbart_513186861            Breitbart_513186861   \n",
       "59               Breitbart_513186861            Breitbart_545230952   \n",
       "74               Breitbart_513186861              Newsmax_713072384   \n",
       "75               Breitbart_513186861            Breitbart_512743064   \n",
       "164              Breitbart_513186861              FoxNews_553935231   \n",
       "...                              ...                            ...   \n",
       "426682        RushLimbaugh_513263320                VDARE_513726520   \n",
       "427266  WashingtonExaminer_513236237              Newsmax_713110752   \n",
       "427268  WashingtonExaminer_513236237       OneAmericaNews_513862797   \n",
       "427288  WashingtonExaminer_513236237  WashingtonExaminer_1214212377   \n",
       "427751  WashingtonExaminer_692290795   WashingtonExaminer_513969456   \n",
       "\n",
       "        similarity                source_date                target_date  \\\n",
       "0         1.000000  2016-09-13T15:40:18+00:00  2016-09-13T15:40:18+00:00   \n",
       "59        0.230769  2016-09-13T15:40:18+00:00  2016-09-13T01:48:11+00:00   \n",
       "74        0.327481  2016-09-13T15:40:18+00:00  2016-09-13T00:54:23+00:00   \n",
       "75        0.233033  2016-09-13T15:40:18+00:00  2016-09-13T01:07:34+00:00   \n",
       "164       0.333716  2016-09-13T15:40:18+00:00  2016-09-13T12:00:00+00:00   \n",
       "...            ...                        ...                        ...   \n",
       "426682    0.230031  2016-09-13T15:14:04+00:00  2016-09-15T05:14:24+00:00   \n",
       "427266    0.201143  2016-09-13T00:01:00+00:00  2016-09-15T20:19:44+00:00   \n",
       "427268    0.200890  2016-09-13T00:01:00+00:00  2016-09-15T12:35:15+00:00   \n",
       "427288    0.212561  2016-09-13T00:01:00+00:00  2016-09-15T04:00:00+00:00   \n",
       "427751    0.265640  2016-09-13T08:25:00+00:00  2016-09-15T16:31:50+00:00   \n",
       "\n",
       "            source_doctype      target_doctype  \n",
       "0                breitbart           breitbart  \n",
       "59               breitbart           breitbart  \n",
       "74               breitbart             newsmax  \n",
       "75               breitbart           breitbart  \n",
       "164              breitbart             foxnews  \n",
       "...                    ...                 ...  \n",
       "426682        rushlimbaugh               vdare  \n",
       "427266  washingtonexaminer             newsmax  \n",
       "427268  washingtonexaminer      oneamericanews  \n",
       "427288  washingtonexaminer  washingtonexaminer  \n",
       "427751  washingtonexaminer  washingtonexaminer  \n",
       "\n",
       "[3754 rows x 7 columns]"
      ]
     },
     "execution_count": 4,
     "metadata": {},
     "output_type": "execute_result"
    }
   ],
   "source": [
    "df"
   ]
  },
  {
   "cell_type": "markdown",
   "id": "88d366b6-47c6-4f5a-9648-d76ba7e64560",
   "metadata": {},
   "source": [
    "#### Convert softcosine output to network format"
   ]
  },
  {
   "cell_type": "code",
   "execution_count": 5,
   "id": "839084ed-0aa6-46f9-999b-eb11dc8c2479",
   "metadata": {},
   "outputs": [
    {
     "name": "stdout",
     "output_type": "stream",
     "text": [
      "Processing output of the softcosine model...\n"
     ]
    },
    {
     "name": "stderr",
     "output_type": "stream",
     "text": [
      "100%|██████████| 1821/1821 [02:08<00:00, 14.22it/s]\n"
     ]
    }
   ],
   "source": [
    "for modelname, filenames in models:\n",
    "    print(f'Processing output of the {modelname} model...')\n",
    "    for fn in tqdm(filenames):\n",
    "        with open(fn, mode='rb') as fi:\n",
    "            df = pickle.load(fi)\n",
    "            G = nx.Graph()\n",
    "            # change int to str (necessary for pajek format)\n",
    "            df['similarity'] = df['similarity'].apply(str)\n",
    "            # change column name to 'weights' to faciliate later analysis\n",
    "            df.rename({'similarity':'weight'}, axis=1, inplace=True) \n",
    "            # notes and weights from dataframe\n",
    "            G = nx.from_pandas_edgelist(df, source='source', target='target', edge_attr='weight')\n",
    "            # write to pajek\n",
    "            path = f'{net_dir}/'\n",
    "            if not os.path.exists(path):\n",
    "                os.makedirs(path)\n",
    "            nx.write_pajek(G, path+os.path.basename(fn)[:-3]+'net')"
   ]
  }
 ],
 "metadata": {
  "interpreter": {
   "hash": "489b3f76e79a41abcd959e6c959c893d49f1aca67efb4576989581502f23d0f7"
  },
  "kernelspec": {
   "display_name": "Python 3.8 (usrightmedia)",
   "language": "python",
   "name": "python3"
  },
  "language_info": {
   "codemirror_mode": {
    "name": "ipython",
    "version": 3
   },
   "file_extension": ".py",
   "mimetype": "text/x-python",
   "name": "python",
   "nbconvert_exporter": "python",
   "pygments_lexer": "ipython3",
   "version": "3.8.12"
  }
 },
 "nbformat": 4,
 "nbformat_minor": 5
}
