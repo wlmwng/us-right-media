{
 "cells": [
  {
   "cell_type": "markdown",
   "id": "a916a717-89cc-4a5c-a301-ce5e8d00f02d",
   "metadata": {},
   "source": [
    "## Softcosine Clusters\n",
    "**Purpose:** Add the assigned `cluster_id`s to each outlet's document.\n",
    "\n",
    "**Steps**:\n",
    "1. Create a list of dictionaries where each dict corresponds to a `doc_id`.\n",
    "    - Each dict contains the `doc_id` and cluster assignment keys (i.e., `softcos02_id`, `softcos03_id`, etc.)\n",
    "2. modify INCA so it can update a document based on a `doc_id` and add multiple new fields in one-go."
   ]
  },
  {
   "cell_type": "code",
   "execution_count": 1,
   "id": "02c7c159-2e65-4320-b859-81123bb14617",
   "metadata": {},
   "outputs": [],
   "source": [
    "import os\n",
    "import pandas as pd\n",
    "from collections import defaultdict\n",
    "from operator import itemgetter\n",
    "import copy"
   ]
  },
  {
   "cell_type": "code",
   "execution_count": 2,
   "id": "81f368d6-ee74-4470-a092-d4d015d9b7c6",
   "metadata": {},
   "outputs": [],
   "source": [
    "# matplotlib is logged even though disable_existing_loggers=yes in logging_config.yaml\n",
    "# https://stackoverflow.com/a/51529172/7016397\n",
    "# workaround is to manually set the level before creating my logger\n",
    "import logging\n",
    "logging.getLogger('matplotlib').setLevel(logging.WARNING)\n",
    "\n",
    "from usrightmedia.shared.loggers import get_logger\n",
    "LOGGER = get_logger(filename = '05-softcosine-clusters-inca', logger_type='main')"
   ]
  },
  {
   "cell_type": "code",
   "execution_count": 3,
   "id": "526f655b-03c7-4401-b317-ed6b5e9248db",
   "metadata": {},
   "outputs": [],
   "source": [
    "from usrightmedia.shared.es_queries import query_by_ids"
   ]
  },
  {
   "cell_type": "code",
   "execution_count": 4,
   "id": "b938f655-745d-4e67-ac01-16b95e4470d3",
   "metadata": {},
   "outputs": [],
   "source": [
    "from inca import Inca\n",
    "myinca = Inca()"
   ]
  },
  {
   "cell_type": "code",
   "execution_count": 5,
   "id": "da9d01b4-216c-4785-862e-8cb33ca3158f",
   "metadata": {},
   "outputs": [],
   "source": [
    "df_dir = os.path.join(\"..\", \"..\", \"data\", \"02-intermediate\", \"06-newsevents\", \"05-softcosine-clusters\", \"dataframes\")"
   ]
  },
  {
   "cell_type": "code",
   "execution_count": 6,
   "id": "da0575d4-9b39-4788-bbd8-24264e67266a",
   "metadata": {},
   "outputs": [],
   "source": [
    "def get_cluster_assignments(similarity_threshold):\n",
    "    \"\"\"Get the documents' assigned clusters for a particular similarity threshold.\n",
    "    \n",
    "    Args:\n",
    "        similarity_threshold (str): e.g., \"softcos02\"\n",
    "        \n",
    "    Returns:\n",
    "        d2c_dicts (list of dicts): each dict contains two key-value pairs\n",
    "            keys: doc_id, [similarity threshold]_id\n",
    "    \n",
    "    \"\"\"\n",
    "    df = pd.read_pickle(os.path.join(df_dir, f\"clusters_{similarity_threshold}.pkl\"))\n",
    "    d2c_dicts = df[[\"doc_id\", \"cluster_id\"]].to_dict(\"records\")\n",
    "    for d in d2c_dicts:\n",
    "        d[f\"{similarity_threshold}_id\"] = d.pop(\"cluster_id\")\n",
    "    return d2c_dicts"
   ]
  },
  {
   "cell_type": "code",
   "execution_count": 7,
   "id": "5dd28059-a2f9-4dbb-b7b7-11eae9c590c9",
   "metadata": {},
   "outputs": [],
   "source": [
    "# The key in dict_thresholds is the threshold string (e.g., \"softcos02\").\n",
    "# The value in dict_thresholds is the dataframe with the cluster_id per doc_id.\n",
    "# Each dataframe across all thresholds has the same number of rows.\n",
    "# Each row represents a document and is assigned a cluster_id.\n",
    "# The cluster_id can correspond to a single-article or multi-article cluster.\n",
    "dict_thresholds = {}\n",
    "for n in range(2, 10):\n",
    "    df_threshold = get_cluster_assignments(f\"softcos0{n}\")\n",
    "    dict_thresholds[f\"softcos0{n}\"] = df_threshold"
   ]
  },
  {
   "cell_type": "code",
   "execution_count": 8,
   "id": "714424a1-3d6f-46d7-9f88-b4c9d9d0490a",
   "metadata": {},
   "outputs": [
    {
     "data": {
      "text/plain": [
       "[{'doc_id': 'FoxNews_430089147', 'softcos08_id': 'softcos08_168917'},\n",
       " {'doc_id': 'FoxNews_430021195', 'softcos08_id': 'softcos08_168918'},\n",
       " {'doc_id': 'DailyCaller_713193397', 'softcos08_id': 'softcos08_168919'}]"
      ]
     },
     "execution_count": 8,
     "metadata": {},
     "output_type": "execute_result"
    }
   ],
   "source": [
    "# Each doc is assigned a cluster_id per threshold\n",
    "# examples: \"softcos08\"\n",
    "dict_thresholds[\"softcos08\"][-5:-2]"
   ]
  },
  {
   "cell_type": "code",
   "execution_count": 9,
   "id": "cfad792a-493d-42de-83b9-5de3556a881f",
   "metadata": {},
   "outputs": [
    {
     "data": {
      "text/plain": [
       "[{'doc_id': 'FoxNews_430089147', 'softcos09_id': 'softcos09_171948'},\n",
       " {'doc_id': 'FoxNews_430021195', 'softcos09_id': 'softcos09_171949'},\n",
       " {'doc_id': 'DailyCaller_713193397', 'softcos09_id': 'softcos09_171950'}]"
      ]
     },
     "execution_count": 9,
     "metadata": {},
     "output_type": "execute_result"
    }
   ],
   "source": [
    "# examples: \"softcos09\"\n",
    "dict_thresholds[\"softcos09\"][-5:-2]"
   ]
  },
  {
   "cell_type": "code",
   "execution_count": 10,
   "id": "e09559f4-4e37-4871-b9fb-9ef6fb3d0b45",
   "metadata": {},
   "outputs": [],
   "source": [
    "# This step consolidates the cluster assignments for each doc_id.\n",
    "# The output is a list of dicts where each dict represents a doc and its various cluster assignments.\n",
    "\n",
    "# https://stackoverflow.com/a/5501893\n",
    "d = defaultdict(dict)\n",
    "for threshold in dict_thresholds.values():\n",
    "    for doc in threshold:\n",
    "        d[doc[\"doc_id\"]].update(doc)\n",
    "\n",
    "docs = sorted(d.values(), key=itemgetter(\"doc_id\"))\n",
    "docs_inca = copy.deepcopy(docs)"
   ]
  },
  {
   "cell_type": "code",
   "execution_count": 11,
   "id": "f0d4d0bb-38c5-4803-bf2d-6d1f3a3115c8",
   "metadata": {},
   "outputs": [],
   "source": [
    "# this step renames 'doc_id' to '_id'\n",
    "for doc in docs_inca:\n",
    "    doc[\"_id\"] = doc[\"doc_id\"]\n",
    "    doc.pop(\"doc_id\")"
   ]
  },
  {
   "cell_type": "code",
   "execution_count": 12,
   "id": "2546b62c-986a-4a39-a59e-e4aae514d703",
   "metadata": {},
   "outputs": [
    {
     "name": "stderr",
     "output_type": "stream",
     "text": [
      "100%|██████████| 87/87 [00:22<00:00,  3.83it/s]\n"
     ]
    }
   ],
   "source": [
    "# after running this cell, each dict in docs_inca will no longer have an \"_id\" as its popped off in INCA\n",
    "myinca.database.update_documents(docs_inca, batchsize=2000)"
   ]
  },
  {
   "cell_type": "code",
   "execution_count": 13,
   "id": "e1affa14-d4d7-4bee-900c-c8cdb125d966",
   "metadata": {},
   "outputs": [
    {
     "data": {
      "text/plain": [
       "[{'doc_id': 'WashingtonExaminer_999968188',\n",
       "  'softcos02_id': 'softcos02_67',\n",
       "  'softcos03_id': 'softcos03_452',\n",
       "  'softcos04_id': 'softcos04_454',\n",
       "  'softcos05_id': 'softcos05_377',\n",
       "  'softcos06_id': 'softcos06_9184',\n",
       "  'softcos07_id': 'softcos07_5143',\n",
       "  'softcos08_id': 'softcos08_1888',\n",
       "  'softcos09_id': 'softcos09_645'},\n",
       " {'doc_id': 'WashingtonExaminer_999968698',\n",
       "  'softcos02_id': 'softcos02_3526',\n",
       "  'softcos03_id': 'softcos03_5803',\n",
       "  'softcos04_id': 'softcos04_5326',\n",
       "  'softcos05_id': 'softcos05_3802',\n",
       "  'softcos06_id': 'softcos06_3094',\n",
       "  'softcos07_id': 'softcos07_23553',\n",
       "  'softcos08_id': 'softcos08_20064',\n",
       "  'softcos09_id': 'softcos09_18305'}]"
      ]
     },
     "execution_count": 13,
     "metadata": {},
     "output_type": "execute_result"
    }
   ],
   "source": [
    "# spot-check in Kibana\n",
    "docs[-5:-3]"
   ]
  }
 ],
 "metadata": {
  "kernelspec": {
   "display_name": "Python 3.8 (usrightmedia)",
   "language": "python",
   "name": "usrightmedia"
  },
  "language_info": {
   "codemirror_mode": {
    "name": "ipython",
    "version": 3
   },
   "file_extension": ".py",
   "mimetype": "text/x-python",
   "name": "python",
   "nbconvert_exporter": "python",
   "pygments_lexer": "ipython3",
   "version": "3.8.12"
  }
 },
 "nbformat": 4,
 "nbformat_minor": 5
}
