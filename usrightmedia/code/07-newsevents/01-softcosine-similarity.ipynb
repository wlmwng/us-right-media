{
 "cells": [
  {
   "cell_type": "markdown",
   "id": "bc458e71-68a6-4be1-b1cf-5390feb8d500",
   "metadata": {},
   "source": [
    "## Softcosine Similarity\n",
    "\n",
    "**Purpose**: compute softcosine similarity between outlets' documents\n",
    "- Code based on https://github.com/damian0604/newsevents/blob/master/src/data-processing/020-softcosine_newsevents.py"
   ]
  },
  {
   "cell_type": "code",
   "execution_count": 1,
   "id": "5a116ef6-e591-4be7-8579-973360032f3e",
   "metadata": {},
   "outputs": [],
   "source": [
    "# matplotlib is logged even though disable_existing_loggers=yes in logging_config.yaml\n",
    "# https://stackoverflow.com/a/51529172/7016397\n",
    "# workaround is to manually set the level before creating my logger\n",
    "import logging\n",
    "logging.getLogger('matplotlib').setLevel(logging.WARNING)\n",
    "\n",
    "from usrightmedia.shared.loggers import get_logger\n",
    "LOGGER = get_logger(filename = '01-softcosine-similarity', logger_type='main')"
   ]
  },
  {
   "cell_type": "code",
   "execution_count": 2,
   "id": "90d29df8-29fa-4648-bd6b-d47fa7b19e4d",
   "metadata": {},
   "outputs": [
    {
     "data": {
      "text/plain": [
       "'3.8.1'"
      ]
     },
     "execution_count": 2,
     "metadata": {},
     "output_type": "execute_result"
    }
   ],
   "source": [
    "from datetime import datetime\n",
    "import gensim\n",
    "gensim.__version__"
   ]
  },
  {
   "cell_type": "code",
   "execution_count": 3,
   "id": "9269e009-3d7e-465b-ab6f-497919056102",
   "metadata": {},
   "outputs": [],
   "source": [
    "import os\n",
    "from inca import Inca\n",
    "myinca = Inca()"
   ]
  },
  {
   "cell_type": "code",
   "execution_count": 4,
   "id": "2425f59f-bb6a-45da-893f-c3603a122ea0",
   "metadata": {},
   "outputs": [],
   "source": [
    "outlet_doctypes = [\n",
    "    \"americanrenaissance\",\n",
    "    \"breitbart\",\n",
    "    \"dailycaller\",\n",
    "    \"dailystormer\",\n",
    "    \"foxnews\",\n",
    "    \"gatewaypundit\",\n",
    "    \"infowars\",\n",
    "    \"newsmax\",\n",
    "    \"oneamericanews\",\n",
    "    \"rushlimbaugh\",\n",
    "    \"seanhannity\",\n",
    "    \"vdare\",\n",
    "    \"washingtonexaminer\",\n",
    "]"
   ]
  },
  {
   "cell_type": "code",
   "execution_count": 5,
   "id": "22910b43-ecc6-4638-ab56-86c4c8d0dafd",
   "metadata": {},
   "outputs": [
    {
     "name": "stderr",
     "output_type": "stream",
     "text": [
      "100%|██████████| 173504/173504 [01:01<00:00, 2814.38it/s]\n",
      "100%|██████████| 173504/173504 [01:18<00:00, 2207.15it/s]\n",
      "1539it [34:07,  1.33s/it]\n"
     ]
    }
   ],
   "source": [
    "START_TIME = datetime.now()\n",
    "LOGGER.info(f\"Starting softcosine similarity calculation at {START_TIME}\")\n",
    "\n",
    "myinca.analysis.softcosine_similarity.fit(path_to_model=os.path.join(\"..\", \"..\", \"data\", \"gensim-data\", \"word2vec-google-news-300\", \"word2vec-google-news-300.gz\"),\n",
    "                                          source=outlet_doctypes,\n",
    "                                          target=outlet_doctypes,\n",
    "                                          sourcetext='article_maintext_4',\n",
    "                                          sourcedate='publish_date',\n",
    "                                          targettext='article_maintext_4',\n",
    "                                          targetdate='publish_date',\n",
    "                                          keyword_source=None,\n",
    "                                          keyword_target=None,\n",
    "                                          keyword_source_must=False,\n",
    "                                          keyword_target_must=False,\n",
    "                                          condition_source={'should_include': True},\n",
    "                                          condition_target={'should_include': True},\n",
    "                                          days_before=0,\n",
    "                                          days_after=2,\n",
    "                                          merge_weekend=False, # do not assume weekend can be collapsed\n",
    "                                          threshold=0.2,\n",
    "                                          from_time='2016-01-01', # gte\n",
    "                                          to_time='2021-01-01', # lte\n",
    "                                          to_csv=False, # return a pickled pandas dataframe instead of a CSV file\n",
    "                                          destination=os.path.join(\"..\", \"..\", \"data\", \"02-intermediate\", \"06-newsevents\", \"01-softcosine-output\"),\n",
    "                                          to_pajek=False, # not available in combination with days_before/days_after parameters\n",
    "                                          filter_above=0.5, # default\n",
    "                                          filter_below=5) # default\n",
    "\n",
    "END_TIME = datetime.now()\n",
    "LOGGER.info(f\"Finished softcosine similarity calculation at {END_TIME}\")"
   ]
  }
 ],
 "metadata": {
  "kernelspec": {
   "display_name": "Python 3.8 (usrightmedia)",
   "language": "python",
   "name": "usrightmedia"
  },
  "language_info": {
   "codemirror_mode": {
    "name": "ipython",
    "version": 3
   },
   "file_extension": ".py",
   "mimetype": "text/x-python",
   "name": "python",
   "nbconvert_exporter": "python",
   "pygments_lexer": "ipython3",
   "version": "3.8.12"
  }
 },
 "nbformat": 4,
 "nbformat_minor": 5
}
