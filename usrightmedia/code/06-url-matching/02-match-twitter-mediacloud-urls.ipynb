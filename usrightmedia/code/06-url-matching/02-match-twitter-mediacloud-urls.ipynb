{
 "cells": [
  {
   "cell_type": "markdown",
   "metadata": {},
   "source": [
    "## URL matching\n",
    "\n",
    "**Purpose**: check each outlet's document to see if it was (re-)tweeted, and if so, how many times.\n",
    "\n",
    "1. Update `standardized_url` field to use the updated version of urlExpander\n",
    "2. Add matches: for each outlet's document, check if `standardized_url` matches 1+ documents of `tweets2_url` doctype."
   ]
  },
  {
   "cell_type": "code",
   "execution_count": 1,
   "metadata": {},
   "outputs": [],
   "source": [
    "# matplotlib is logged even though disable_existing_loggers=yes in logging_config.yaml\n",
    "# https://stackoverflow.com/a/51529172/7016397\n",
    "# workaround is to manually set the level before creating my logger\n",
    "import logging\n",
    "logging.getLogger('matplotlib').setLevel(logging.WARNING)\n",
    "\n",
    "from usrightmedia.shared.loggers import get_logger\n",
    "LOGGER = get_logger(filename = '01-url-matching', logger_type='main')"
   ]
  },
  {
   "cell_type": "markdown",
   "metadata": {},
   "source": [
    "- Pre-processing uses the Bulk API through the Python Elasticsearch client.\n",
    "- Elasticsearch: [\"How Big Is Too Big?\"](https://www.elastic.co/guide/en/elasticsearch/guide/current/bulk.html#_how_big_is_too_big)\n",
    ">The entire bulk request needs to be loaded into memory by the node that receives our request, so the bigger the request, the less memory available for other requests. There is an optimal size of bulk request. Above that size, performance no longer improves and may even drop off. The optimal size, however, is not a fixed number. It depends entirely on your hardware, your document size and complexity, and your indexing and search load.\n",
    ">Fortunately, it is easy to find this sweet spot: Try indexing typical documents in batches of increasing size. When performance starts to drop off, your batch size is too big. A good place to start is with batches of 1,000 to 5,000 documents or, if your documents are very large, with even smaller batches.\n",
    ">It is often useful to keep an eye on the physical size of your bulk requests. One thousand 1KB documents is very different from one thousand 1MB documents. A good bulk size to start playing with is around 5-15MB in size."
   ]
  },
  {
   "cell_type": "code",
   "execution_count": 2,
   "metadata": {},
   "outputs": [],
   "source": [
    "bulksize = 2000"
   ]
  },
  {
   "cell_type": "markdown",
   "metadata": {},
   "source": [
    "## Import INCA and check doctypes"
   ]
  },
  {
   "cell_type": "code",
   "execution_count": 3,
   "metadata": {},
   "outputs": [
    {
     "name": "stdout",
     "output_type": "stream",
     "text": [
      "2021-12-16 18:39:41,657 - [WARNING] - INCA - (hype_analysis.py).<module>(21) - $DISPLAY environment variable is not set, trying a different approach. You probably are running INCA on a text console, right?\n",
      "2021-12-16 18:39:41,920 - [WARNING] - INCA - (var_tsa_analysis.py).<module>(21) - $DISPLAY environment variable is not set, trying a different approach. You probably are running INCA on a text console, right?\n"
     ]
    },
    {
     "data": {
      "text/plain": [
       "{'tweets2': 889739,\n",
       " 'tweets2_url': 285447,\n",
       " 'foxnews': 264620,\n",
       " 'breitbart': 149241,\n",
       " 'dailycaller': 121822,\n",
       " 'oneamericanews': 117287,\n",
       " 'washingtonexaminer': 71710,\n",
       " 'newsmax': 71146,\n",
       " 'gatewaypundit': 39401,\n",
       " 'infowars': 28453,\n",
       " 'vdare': 19643,\n",
       " 'dailystormer': 15823,\n",
       " 'americanrenaissance': 9838,\n",
       " 'rushlimbaugh': 9396,\n",
       " 'seanhannity': 5647}"
      ]
     },
     "execution_count": 3,
     "metadata": {},
     "output_type": "execute_result"
    }
   ],
   "source": [
    "from inca import Inca\n",
    "myinca = Inca()\n",
    "myinca.database.list_doctypes()"
   ]
  },
  {
   "cell_type": "markdown",
   "metadata": {},
   "source": [
    "### 1. Add `standardized_url` field to documents representing (re-)tweeted URLs and outlets' articles\n",
    "- `force=True` to use updated version of urlExpander (public fork)"
   ]
  },
  {
   "cell_type": "code",
   "execution_count": 4,
   "metadata": {},
   "outputs": [],
   "source": [
    "doctypes_to_process = [\n",
    "    \"americanrenaissance\",\n",
    "    \"breitbart\",\n",
    "    \"dailycaller\",\n",
    "    \"dailystormer\",\n",
    "    \"foxnews\",\n",
    "    \"gatewaypundit\",\n",
    "    \"infowars\",\n",
    "    \"newsmax\",\n",
    "    \"oneamericanews\",\n",
    "    \"rushlimbaugh\",\n",
    "    \"seanhannity\",\n",
    "    \"vdare\",\n",
    "    \"washingtonexaminer\",\n",
    "    \"tweets2_url\"\n",
    "]"
   ]
  },
  {
   "cell_type": "code",
   "execution_count": 5,
   "metadata": {},
   "outputs": [
    {
     "name": "stderr",
     "output_type": "stream",
     "text": [
      "100%|██████████| 9838/9838 [05:29<00:00, 29.82it/s]  \n",
      "100%|██████████| 149241/149241 [1:04:58<00:00, 38.28it/s]\n",
      "100%|██████████| 121822/121822 [46:06<00:00, 44.04it/s]\n",
      "100%|██████████| 15823/15823 [03:45<00:00, 70.08it/s] \n",
      "100%|██████████| 264620/264620 [2:11:34<00:00, 33.52it/s]  \n",
      "100%|██████████| 39401/39401 [10:29<00:00, 62.58it/s] \n",
      "100%|██████████| 28453/28453 [07:19<00:00, 64.76it/s] \n",
      "100%|██████████| 71146/71146 [18:47<00:00, 63.08it/s] \n",
      "100%|██████████| 117287/117287 [33:47<00:00, 57.84it/s]\n",
      "100%|██████████| 9396/9396 [03:39<00:00, 42.73it/s]  \n",
      "100%|██████████| 5647/5647 [00:52<00:00, 106.71it/s] \n",
      "100%|██████████| 19643/19643 [06:37<00:00, 49.44it/s] \n",
      "100%|██████████| 71710/71710 [19:12<00:00, 62.23it/s] \n",
      "100%|██████████| 285447/285447 [36:55<00:00, 128.83it/s]\n"
     ]
    }
   ],
   "source": [
    "for doctype in doctypes_to_process:\n",
    "    \n",
    "    try:\n",
    "        \n",
    "        docs = myinca.processing.standardize_url(docs_or_query=doctype,\n",
    "                                                 field=\"resolved_url\",\n",
    "                                                 save=True,\n",
    "                                                 new_key=\"standardized_url\",\n",
    "                                                 action=\"batch\",\n",
    "                                                 bulksize=bulksize,\n",
    "                                                 force=True)\n",
    "        for doc in docs:\n",
    "            # runs process on doc\n",
    "            pass\n",
    "\n",
    "    except Exception as e:\n",
    "        LOGGER.warning(e)"
   ]
  },
  {
   "cell_type": "markdown",
   "metadata": {},
   "source": [
    "### 2. Find matches\n",
    "- For each outlet's document, check if `standardized_url` matches any documents of the `tweets2_url` doctype.\n",
    "- Store the results in the new keys: `tweets2_url_ids` (list of matched IDs), `tweets2_url_count` (number of matches), and `tweets2_url_ind` (boolean indicator of 1+ matches)."
   ]
  },
  {
   "cell_type": "code",
   "execution_count": 6,
   "metadata": {},
   "outputs": [],
   "source": [
    "outlet_doctypes = [\n",
    "    \"americanrenaissance\",\n",
    "    \"breitbart\",\n",
    "    \"dailycaller\",\n",
    "    \"dailystormer\",\n",
    "    \"foxnews\",\n",
    "    \"gatewaypundit\",\n",
    "    \"infowars\",\n",
    "    \"newsmax\",\n",
    "    \"oneamericanews\",\n",
    "    \"rushlimbaugh\",\n",
    "    \"seanhannity\",\n",
    "    \"vdare\",\n",
    "    \"washingtonexaminer\",\n",
    "]"
   ]
  },
  {
   "cell_type": "code",
   "execution_count": 7,
   "metadata": {},
   "outputs": [
    {
     "name": "stderr",
     "output_type": "stream",
     "text": [
      "100%|██████████| 9838/9838 [04:37<00:00, 35.41it/s]\n",
      "100%|██████████| 149241/149241 [1:18:07<00:00, 31.84it/s]\n",
      "100%|██████████| 121822/121822 [47:47<00:00, 42.49it/s] \n",
      "100%|██████████| 15823/15823 [04:49<00:00, 54.64it/s]\n",
      "100%|██████████| 264620/264620 [2:57:03<00:00, 24.91it/s]  \n",
      "100%|██████████| 39401/39401 [12:48<00:00, 51.29it/s]\n",
      "100%|██████████| 28453/28453 [08:42<00:00, 54.45it/s]\n",
      "100%|██████████| 71146/71146 [23:11<00:00, 51.15it/s]\n",
      "100%|██████████| 117287/117287 [42:14<00:00, 46.28it/s] \n",
      "100%|██████████| 9396/9396 [06:22<00:00, 24.58it/s]\n",
      "100%|██████████| 5647/5647 [01:24<00:00, 67.19it/s]\n",
      "100%|██████████| 19643/19643 [09:23<00:00, 34.83it/s]\n",
      "100%|██████████| 71710/71710 [20:42<00:00, 57.73it/s]\n"
     ]
    }
   ],
   "source": [
    "# action=\"run\" rather than action=\"batch\" because this processor sends an individual HTTP request to Elasticsearch per document anyway\n",
    "for doctype in outlet_doctypes:\n",
    "    \n",
    "    try:\n",
    "        \n",
    "        docs = myinca.processing.match_outlet_articles_to_tweets2_urls(docs_or_query=doctype,\n",
    "                                                                       field=\"standardized_url\",\n",
    "                                                                       save=True,\n",
    "                                                                       new_key=\"tweets2_url_ids\",\n",
    "                                                                       action=\"run\",\n",
    "                                                                       force=True)\n",
    "        for doc in docs:\n",
    "            # runs process on doc\n",
    "            pass\n",
    "\n",
    "    except Exception as e:\n",
    "        LOGGER.warning(e)"
   ]
  },
  {
   "cell_type": "code",
   "execution_count": 8,
   "metadata": {},
   "outputs": [
    {
     "name": "stderr",
     "output_type": "stream",
     "text": [
      "100%|██████████| 9838/9838 [03:29<00:00, 47.00it/s]  \n",
      "100%|██████████| 149241/149241 [50:33<00:00, 49.20it/s]\n",
      "100%|██████████| 121822/121822 [38:54<00:00, 52.19it/s]\n",
      "100%|██████████| 15823/15823 [03:32<00:00, 74.30it/s] \n",
      "100%|██████████| 264620/264620 [1:55:48<00:00, 38.08it/s]  \n",
      "100%|██████████| 39401/39401 [12:22<00:00, 53.07it/s] \n",
      "100%|██████████| 28453/28453 [08:39<00:00, 54.80it/s] \n",
      "100%|██████████| 71146/71146 [23:47<00:00, 49.82it/s] \n",
      "100%|██████████| 117287/117287 [38:35<00:00, 50.65it/s]\n",
      "100%|██████████| 9396/9396 [04:34<00:00, 34.22it/s] \n",
      "100%|██████████| 5647/5647 [00:49<00:00, 113.96it/s] \n",
      "100%|██████████| 19643/19643 [09:14<00:00, 35.41it/s] \n",
      "100%|██████████| 71710/71710 [19:21<00:00, 61.73it/s] \n"
     ]
    }
   ],
   "source": [
    "for doctype in outlet_doctypes:\n",
    "    \n",
    "    try:\n",
    "        \n",
    "        docs = myinca.processing.match_outlet_articles_to_tweets2_urls_count(docs_or_query=doctype,\n",
    "                                                                             field=\"tweets2_url_ids\",\n",
    "                                                                             save=True,\n",
    "                                                                             new_key=\"tweets2_url_match_count\",\n",
    "                                                                             action=\"batch\",\n",
    "                                                                             bulksize=bulksize,\n",
    "                                                                             force=True)\n",
    "        for doc in docs:\n",
    "            # runs process on doc\n",
    "            pass\n",
    "\n",
    "    except Exception as e:\n",
    "        LOGGER.warning(e)"
   ]
  },
  {
   "cell_type": "code",
   "execution_count": 9,
   "metadata": {},
   "outputs": [
    {
     "name": "stderr",
     "output_type": "stream",
     "text": [
      "100%|██████████| 9838/9838 [03:22<00:00, 48.55it/s]  \n",
      "100%|██████████| 149241/149241 [47:38<00:00, 52.22it/s]\n",
      "100%|██████████| 121822/121822 [35:36<00:00, 57.02it/s]\n",
      "100%|██████████| 15823/15823 [03:55<00:00, 67.12it/s] \n",
      "100%|██████████| 264620/264620 [1:59:41<00:00, 36.85it/s]  \n",
      "100%|██████████| 39401/39401 [10:55<00:00, 60.14it/s] \n",
      "100%|██████████| 28453/28453 [08:10<00:00, 57.98it/s] \n",
      "100%|██████████| 71146/71146 [18:30<00:00, 64.08it/s] \n",
      "100%|██████████| 117287/117287 [31:14<00:00, 62.57it/s]\n",
      "100%|██████████| 9396/9396 [04:42<00:00, 33.27it/s] \n",
      "100%|██████████| 5647/5647 [00:57<00:00, 98.71it/s]  \n",
      "100%|██████████| 19643/19643 [06:43<00:00, 48.64it/s] \n",
      "100%|██████████| 71710/71710 [20:36<00:00, 57.99it/s] \n"
     ]
    }
   ],
   "source": [
    "for doctype in outlet_doctypes:\n",
    "    \n",
    "    try:\n",
    "        \n",
    "        docs = myinca.processing.match_outlet_articles_to_tweets2_urls_ind(docs_or_query=doctype,\n",
    "                                                                           field=\"tweets2_url_ids\",\n",
    "                                                                           save=True,\n",
    "                                                                           new_key=\"tweets2_url_match_ind\",\n",
    "                                                                           action=\"batch\",\n",
    "                                                                           bulksize=bulksize,\n",
    "                                                                           force=True)\n",
    "        for doc in docs:\n",
    "            # runs process on doc\n",
    "            pass\n",
    "\n",
    "    except Exception as e:\n",
    "        LOGGER.warning(e)"
   ]
  }
 ],
 "metadata": {
  "interpreter": {
   "hash": "dd43d351af792a8a2d3bed576ed992c22af60aaa9b7bcbf49f8a265b549672e7"
  },
  "kernelspec": {
   "display_name": "Python 3.8 (usrightmedia)",
   "language": "python",
   "name": "usrightmedia"
  },
  "language_info": {
   "codemirror_mode": {
    "name": "ipython",
    "version": 3
   },
   "file_extension": ".py",
   "mimetype": "text/x-python",
   "name": "python",
   "nbconvert_exporter": "python",
   "pygments_lexer": "ipython3",
   "version": "3.8.12"
  }
 },
 "nbformat": 4,
 "nbformat_minor": 4
}
