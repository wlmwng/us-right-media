{
 "cells": [
  {
   "cell_type": "markdown",
   "metadata": {},
   "source": [
    "## Upload Twitter URLs as documents in Elasticsearch\n",
    "\n",
    "**Purpose**: ES queries will help find URL matches between Media Cloud URLs and Twitter URLs.\n",
    "1. Load the URLs from `politicians_tweeted_urls_urlexpander.pkl`.\n",
    "2. Add INCA-related fields for each URL.\n",
    "3. Convert the content into JSON and write it to a .jsonl file where each line represents a URL-document.\n",
    "4. Use `inca.importers_exporters.import_json()` to add the Twitter URLs to Elasticsearch."
   ]
  },
  {
   "cell_type": "code",
   "execution_count": 1,
   "metadata": {},
   "outputs": [
    {
     "name": "stderr",
     "output_type": "stream",
     "text": [
      "WARNING:INCA:$DISPLAY environment variable is not set, trying a different approach. You probably are running INCA on a text console, right?\n",
      "WARNING:INCA:$DISPLAY environment variable is not set, trying a different approach. You probably are running INCA on a text console, right?\n"
     ]
    }
   ],
   "source": [
    "from inca import Inca\n",
    "import pandas as pd\n",
    "import os"
   ]
  },
  {
   "cell_type": "code",
   "execution_count": 2,
   "metadata": {},
   "outputs": [],
   "source": [
    "from usrightmedia.shared.loggers import get_logger\n",
    "LOGGER = get_logger(filename = '01-upload-twitter-urls-to-inca', logger_type='main_file')"
   ]
  },
  {
   "cell_type": "code",
   "execution_count": 3,
   "metadata": {},
   "outputs": [],
   "source": [
    "dir_url = os.path.join('..', '..', 'data', '02-intermediate', '02-twitter')"
   ]
  },
  {
   "cell_type": "markdown",
   "metadata": {},
   "source": [
    "- load the URLs and inspect the columns"
   ]
  },
  {
   "cell_type": "code",
   "execution_count": 4,
   "metadata": {},
   "outputs": [],
   "source": [
    "urls = pd.read_pickle(os.path.join(dir_url, f'politicians_tweeted_urls_urlexpander.pkl'))"
   ]
  },
  {
   "cell_type": "code",
   "execution_count": 5,
   "metadata": {},
   "outputs": [
    {
     "data": {
      "text/plain": [
       "Index(['tweet_id', 'created_at', 'created_week', 'created_month',\n",
       "       'created_year', 'text', 'author_id', 'username', 'tweet_url', 'url_id',\n",
       "       'url', 'expanded_url', 'display_url', 'unwound_url',\n",
       "       'most_unrolled_url', 'most_unrolled_field', 'is_dupe', 'is_from_tw',\n",
       "       'resolved_url', 'resolved_netloc', 'resolved_domain',\n",
       "       'standardized_url', 'is_generic_url', 'urlexpander_error'],\n",
       "      dtype='object')"
      ]
     },
     "execution_count": 5,
     "metadata": {},
     "output_type": "execute_result"
    }
   ],
   "source": [
    "urls.columns"
   ]
  },
  {
   "cell_type": "markdown",
   "metadata": {},
   "source": [
    "- add fields:\n",
    "    - label the document as part of the same project\n",
    "    - add a `doctype` field\n",
    "    - add a `_id` field"
   ]
  },
  {
   "cell_type": "code",
   "execution_count": 2,
   "metadata": {},
   "outputs": [],
   "source": [
    "urls['PROJECT'] = \"usmedia\"\n",
    "urls['doctype'] = \"tweets2_url\"\n",
    "urls['_id'] = f\"{urls['username']}_{urls['url_id']}\""
   ]
  },
  {
   "cell_type": "markdown",
   "metadata": {},
   "source": [
    "- select fields and create ES mapping"
   ]
  },
  {
   "cell_type": "code",
   "execution_count": 8,
   "metadata": {},
   "outputs": [],
   "source": [
    "mapping = {\n",
    "    \"PROJECT\": \"PROJECT\",\n",
    "    \"doctype\": \"doctype\",\n",
    "    \"_id\": \"_id\",\n",
    "    \"tweet_id\": \"tweet_id\",\n",
    "    \"created_at\": \"created_at\",\n",
    "    \"text\": \"text\",\n",
    "    \"author_id\": \"author_id\",\n",
    "    \"username\": \"username\",\n",
    "    \"tweet_url\": \"tweet_url\",\n",
    "    \"url_id\": \"url_id\",\n",
    "    \"url\": \"url\",\n",
    "    \"expanded_url\": \"expanded_url\",\n",
    "    \"display_url\": \"display_url\",\n",
    "    \"unwound_url\": \"unwound_url\",\n",
    "    \"most_unrolled_url\": \"most_unrolled_url\",\n",
    "    \"most_unrolled_field\": \"most_unrolled_field\",\n",
    "    \"resolved_url\": \"resolved_url\",\n",
    "    \"resolved_netloc\": \"resolved_netloc\",\n",
    "    \"resolved_domain\": \"resolved_domain\",\n",
    "    \"standardized_url\": \"standardized_url\",\n",
    "    \"is_generic_url\": \"is_generic_url\",\n",
    "    \"urlexpander_error\": \"urlexpander_error\",\n",
    "}"
   ]
  },
  {
   "cell_type": "code",
   "execution_count": null,
   "metadata": {},
   "outputs": [],
   "source": [
    "urls.head()"
   ]
  },
  {
   "cell_type": "code",
   "execution_count": 10,
   "metadata": {},
   "outputs": [],
   "source": [
    "urls.to_json(os.path.join(dir_url, 'politicians_tweeted_urls_urlexpander.jsonl'), orient='records', lines=True)"
   ]
  },
  {
   "cell_type": "code",
   "execution_count": 11,
   "metadata": {},
   "outputs": [],
   "source": [
    "myinca = Inca()"
   ]
  },
  {
   "cell_type": "code",
   "execution_count": 12,
   "metadata": {},
   "outputs": [],
   "source": [
    "myinca.importers_exporters.import_json(\n",
    "    mapping=mapping,\n",
    "    path=os.path.join(dir_url, \"politicians_tweeted_urls_urlexpander.jsonl\"),\n",
    "    compression=False,\n",
    ")"
   ]
  }
 ],
 "metadata": {
  "interpreter": {
   "hash": "489b3f76e79a41abcd959e6c959c893d49f1aca67efb4576989581502f23d0f7"
  },
  "kernelspec": {
   "display_name": "Python 3 (ipykernel)",
   "language": "python",
   "name": "python3"
  },
  "language_info": {
   "codemirror_mode": {
    "name": "ipython",
    "version": 3
   },
   "file_extension": ".py",
   "mimetype": "text/x-python",
   "name": "python",
   "nbconvert_exporter": "python",
   "pygments_lexer": "ipython3",
   "version": "3.9.7"
  }
 },
 "nbformat": 4,
 "nbformat_minor": 4
}
