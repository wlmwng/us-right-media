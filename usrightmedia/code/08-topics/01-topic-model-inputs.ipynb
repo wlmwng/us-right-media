{
 "cells": [
  {
   "cell_type": "markdown",
   "id": "80381e32-bfa4-410a-aa5f-102e60a1ed34",
   "metadata": {},
   "source": [
    "## Topic model inputs\n",
    "- based off of https://github.com/RaRe-Technologies/gensim/blob/develop/docs/notebooks/atmodel_tutorial.ipynb\n",
    "\n",
    "**Purpose**: create corpus"
   ]
  },
  {
   "cell_type": "code",
   "execution_count": 1,
   "id": "f5cb4265-272e-41ac-928f-f923649547c6",
   "metadata": {},
   "outputs": [],
   "source": [
    "import os\n",
    "import pandas as pd\n",
    "import pickle\n",
    "from collections import defaultdict"
   ]
  },
  {
   "cell_type": "code",
   "execution_count": 2,
   "id": "0d40263f-4d22-4a82-b199-1fa5f99f04f1",
   "metadata": {},
   "outputs": [],
   "source": [
    "# matplotlib is logged even though disable_existing_loggers=yes in logging_config.yaml\n",
    "# https://stackoverflow.com/a/51529172/7016397\n",
    "# workaround is to manually set the level before creating my logger\n",
    "import logging\n",
    "logging.getLogger('matplotlib').setLevel(logging.WARNING)\n",
    "\n",
    "from usrightmedia.shared.loggers import get_logger\n",
    "LOGGER = get_logger(filename = '01-topic-model-inputs', logger_type='main')"
   ]
  },
  {
   "cell_type": "code",
   "execution_count": 3,
   "id": "1b4f255e-05f0-475a-a99a-5d8ad135f5b9",
   "metadata": {},
   "outputs": [],
   "source": [
    "from usrightmedia.shared.topics_utils import *"
   ]
  },
  {
   "cell_type": "markdown",
   "id": "a431c954-476e-44ac-8a6d-6fd033e2a281",
   "metadata": {},
   "source": [
    "### 1. Load documents from Elasticsearch"
   ]
  },
  {
   "cell_type": "code",
   "execution_count": 4,
   "id": "28415994-77a2-4f7c-b24c-f104ab73eb05",
   "metadata": {},
   "outputs": [
    {
     "name": "stdout",
     "output_type": "stream",
     "text": [
      "2021-11-23 03:02:53,258 - [WARNING] - INCA - (hype_analysis.py).<module>(21) - $DISPLAY environment variable is not set, trying a different approach. You probably are running INCA on a text console, right?\n",
      "2021-11-23 03:02:53,513 - [WARNING] - INCA - (var_tsa_analysis.py).<module>(21) - $DISPLAY environment variable is not set, trying a different approach. You probably are running INCA on a text console, right?\n"
     ]
    }
   ],
   "source": [
    "from inca import Inca\n",
    "myinca = Inca()\n",
    "\n",
    "query = {\n",
    "    \"query\": {\n",
    "        \"bool\": {\n",
    "            \"filter\": [\n",
    "                {\"term\": {\"should_include\": True}}\n",
    "            ]\n",
    "        }\n",
    "    }\n",
    "}\n",
    "\n",
    "docs = myinca.database.document_generator(query)"
   ]
  },
  {
   "cell_type": "code",
   "execution_count": 5,
   "id": "015e0b33-8cae-4a0a-aa9a-1c120892db62",
   "metadata": {},
   "outputs": [],
   "source": [
    "titles = [] # docs option 1\n",
    "leads = [] # docs option 2\n",
    "texts = [] # docs option 3\n",
    "doctypes = []\n",
    "ids = []"
   ]
  },
  {
   "cell_type": "code",
   "execution_count": 6,
   "id": "269fb0fc-17ad-4f00-b2a2-c38f1d910839",
   "metadata": {},
   "outputs": [
    {
     "name": "stderr",
     "output_type": "stream",
     "text": [
      "100%|██████████| 173504/173504 [01:19<00:00, 2191.11it/s]\n"
     ]
    }
   ],
   "source": [
    "for n, doc in enumerate(docs):\n",
    "    title = doc[\"_source\"][\"title\"]\n",
    "    text = doc[\"_source\"][\"article_maintext\"] # as scraped by news-please\n",
    "    \n",
    "    lead = text.split()[0:100]\n",
    "    lead = ' '.join(lead) \n",
    "    lead = title + lead\n",
    "    \n",
    "    titles.append(title)\n",
    "    leads.append(lead)\n",
    "    texts.append(text)\n",
    "    \n",
    "    doctypes.append(doc[\"_source\"]['doctype'])\n",
    "    ids.append(doc['_id'])"
   ]
  },
  {
   "cell_type": "code",
   "execution_count": 7,
   "id": "fb209049-4b72-47d0-844d-2285bae8a20d",
   "metadata": {},
   "outputs": [],
   "source": [
    "df_data_inputs = pd.DataFrame({\"doc_id\": ids,\n",
    "                               \"doctype\": doctypes,\n",
    "                               \"title\": titles,\n",
    "                               \"lead\": leads,\n",
    "                               \"article_maintext\": texts})"
   ]
  },
  {
   "cell_type": "code",
   "execution_count": 8,
   "id": "f918b6fa-4eba-4b5a-a483-5e529c045090",
   "metadata": {},
   "outputs": [
    {
     "data": {
      "text/html": [
       "<div>\n",
       "<style scoped>\n",
       "    .dataframe tbody tr th:only-of-type {\n",
       "        vertical-align: middle;\n",
       "    }\n",
       "\n",
       "    .dataframe tbody tr th {\n",
       "        vertical-align: top;\n",
       "    }\n",
       "\n",
       "    .dataframe thead th {\n",
       "        text-align: right;\n",
       "    }\n",
       "</style>\n",
       "<table border=\"1\" class=\"dataframe\">\n",
       "  <thead>\n",
       "    <tr style=\"text-align: right;\">\n",
       "      <th></th>\n",
       "      <th>doc_id</th>\n",
       "      <th>doctype</th>\n",
       "      <th>title</th>\n",
       "      <th>lead</th>\n",
       "      <th>article_maintext</th>\n",
       "    </tr>\n",
       "  </thead>\n",
       "  <tbody>\n",
       "    <tr>\n",
       "      <th>0</th>\n",
       "      <td>Breitbart_1554255474</td>\n",
       "      <td>breitbart</td>\n",
       "      <td>Victoria's Secret Launches Transgender, Plus-S...</td>\n",
       "      <td>Victoria's Secret Launches Transgender, Plus-S...</td>\n",
       "      <td>Victoria’s Secret chose the middle of a worldw...</td>\n",
       "    </tr>\n",
       "    <tr>\n",
       "      <th>1</th>\n",
       "      <td>Breitbart_1553551951</td>\n",
       "      <td>breitbart</td>\n",
       "      <td>Coronavirus: California College Student Delive...</td>\n",
       "      <td>Coronavirus: California College Student Delive...</td>\n",
       "      <td>A college student is helping elderly people in...</td>\n",
       "    </tr>\n",
       "    <tr>\n",
       "      <th>2</th>\n",
       "      <td>Breitbart_1553156914</td>\n",
       "      <td>breitbart</td>\n",
       "      <td>Never Trump Leader Rick Wilson Mocks Melania T...</td>\n",
       "      <td>Never Trump Leader Rick Wilson Mocks Melania T...</td>\n",
       "      <td>First lady Melania Trump will appear in public...</td>\n",
       "    </tr>\n",
       "    <tr>\n",
       "      <th>3</th>\n",
       "      <td>Breitbart_1554255466</td>\n",
       "      <td>breitbart</td>\n",
       "      <td>Richard Burr Urges Ethics Probe as Criticism G...</td>\n",
       "      <td>Richard Burr Urges Ethics Probe as Criticism G...</td>\n",
       "      <td>Sen. Richard Burr (R-NC) is urging the Senate ...</td>\n",
       "    </tr>\n",
       "    <tr>\n",
       "      <th>4</th>\n",
       "      <td>Breitbart_1554086370</td>\n",
       "      <td>breitbart</td>\n",
       "      <td>'No Exceptions': Philippines Bans All Foreigne...</td>\n",
       "      <td>'No Exceptions': Philippines Bans All Foreigne...</td>\n",
       "      <td>The Philippines stopped issuing visas to forei...</td>\n",
       "    </tr>\n",
       "    <tr>\n",
       "      <th>...</th>\n",
       "      <td>...</td>\n",
       "      <td>...</td>\n",
       "      <td>...</td>\n",
       "      <td>...</td>\n",
       "      <td>...</td>\n",
       "    </tr>\n",
       "    <tr>\n",
       "      <th>173499</th>\n",
       "      <td>WashingtonExaminer_984965802</td>\n",
       "      <td>washingtonexaminer</td>\n",
       "      <td>FISA surveillance bill barely advances in clos...</td>\n",
       "      <td>FISA surveillance bill barely advances in clos...</td>\n",
       "      <td>The Senate just barely advanced legislation on...</td>\n",
       "    </tr>\n",
       "    <tr>\n",
       "      <th>173500</th>\n",
       "      <td>WashingtonExaminer_985026406</td>\n",
       "      <td>washingtonexaminer</td>\n",
       "      <td>Byron York: Comey told Congress FBI agents did...</td>\n",
       "      <td>Byron York: Comey told Congress FBI agents did...</td>\n",
       "      <td>In March 2017, then-FBI Director James Comey b...</td>\n",
       "    </tr>\n",
       "    <tr>\n",
       "      <th>173501</th>\n",
       "      <td>WashingtonExaminer_985090666</td>\n",
       "      <td>washingtonexaminer</td>\n",
       "      <td>DHS secretary on Trump's 'shithole' remark: 'I...</td>\n",
       "      <td>DHS secretary on Trump's 'shithole' remark: 'I...</td>\n",
       "      <td>Homeland Security Secretary Kirstjen Nielsen t...</td>\n",
       "    </tr>\n",
       "    <tr>\n",
       "      <th>173502</th>\n",
       "      <td>WashingtonExaminer_985177337</td>\n",
       "      <td>washingtonexaminer</td>\n",
       "      <td>Oil group chief boasts of America's 'energy ab...</td>\n",
       "      <td>Oil group chief boasts of America's 'energy ab...</td>\n",
       "      <td>The American Petroleum Institute boasted Tuesd...</td>\n",
       "    </tr>\n",
       "    <tr>\n",
       "      <th>173503</th>\n",
       "      <td>WashingtonExaminer_986814910</td>\n",
       "      <td>washingtonexaminer</td>\n",
       "      <td>NRA rejects Comcast demand to remove gun image...</td>\n",
       "      <td>NRA rejects Comcast demand to remove gun image...</td>\n",
       "      <td>The media giant Comcast has ordered the Nation...</td>\n",
       "    </tr>\n",
       "  </tbody>\n",
       "</table>\n",
       "<p>173504 rows × 5 columns</p>\n",
       "</div>"
      ],
      "text/plain": [
       "                              doc_id             doctype  \\\n",
       "0               Breitbart_1554255474           breitbart   \n",
       "1               Breitbart_1553551951           breitbart   \n",
       "2               Breitbart_1553156914           breitbart   \n",
       "3               Breitbart_1554255466           breitbart   \n",
       "4               Breitbart_1554086370           breitbart   \n",
       "...                              ...                 ...   \n",
       "173499  WashingtonExaminer_984965802  washingtonexaminer   \n",
       "173500  WashingtonExaminer_985026406  washingtonexaminer   \n",
       "173501  WashingtonExaminer_985090666  washingtonexaminer   \n",
       "173502  WashingtonExaminer_985177337  washingtonexaminer   \n",
       "173503  WashingtonExaminer_986814910  washingtonexaminer   \n",
       "\n",
       "                                                    title  \\\n",
       "0       Victoria's Secret Launches Transgender, Plus-S...   \n",
       "1       Coronavirus: California College Student Delive...   \n",
       "2       Never Trump Leader Rick Wilson Mocks Melania T...   \n",
       "3       Richard Burr Urges Ethics Probe as Criticism G...   \n",
       "4       'No Exceptions': Philippines Bans All Foreigne...   \n",
       "...                                                   ...   \n",
       "173499  FISA surveillance bill barely advances in clos...   \n",
       "173500  Byron York: Comey told Congress FBI agents did...   \n",
       "173501  DHS secretary on Trump's 'shithole' remark: 'I...   \n",
       "173502  Oil group chief boasts of America's 'energy ab...   \n",
       "173503  NRA rejects Comcast demand to remove gun image...   \n",
       "\n",
       "                                                     lead  \\\n",
       "0       Victoria's Secret Launches Transgender, Plus-S...   \n",
       "1       Coronavirus: California College Student Delive...   \n",
       "2       Never Trump Leader Rick Wilson Mocks Melania T...   \n",
       "3       Richard Burr Urges Ethics Probe as Criticism G...   \n",
       "4       'No Exceptions': Philippines Bans All Foreigne...   \n",
       "...                                                   ...   \n",
       "173499  FISA surveillance bill barely advances in clos...   \n",
       "173500  Byron York: Comey told Congress FBI agents did...   \n",
       "173501  DHS secretary on Trump's 'shithole' remark: 'I...   \n",
       "173502  Oil group chief boasts of America's 'energy ab...   \n",
       "173503  NRA rejects Comcast demand to remove gun image...   \n",
       "\n",
       "                                         article_maintext  \n",
       "0       Victoria’s Secret chose the middle of a worldw...  \n",
       "1       A college student is helping elderly people in...  \n",
       "2       First lady Melania Trump will appear in public...  \n",
       "3       Sen. Richard Burr (R-NC) is urging the Senate ...  \n",
       "4       The Philippines stopped issuing visas to forei...  \n",
       "...                                                   ...  \n",
       "173499  The Senate just barely advanced legislation on...  \n",
       "173500  In March 2017, then-FBI Director James Comey b...  \n",
       "173501  Homeland Security Secretary Kirstjen Nielsen t...  \n",
       "173502  The American Petroleum Institute boasted Tuesd...  \n",
       "173503  The media giant Comcast has ordered the Nation...  \n",
       "\n",
       "[173504 rows x 5 columns]"
      ]
     },
     "execution_count": 8,
     "metadata": {},
     "output_type": "execute_result"
    }
   ],
   "source": [
    "df_data_inputs"
   ]
  },
  {
   "cell_type": "code",
   "execution_count": 9,
   "id": "023ac3e8-32d1-458c-b553-c950b0b50ec8",
   "metadata": {},
   "outputs": [
    {
     "name": "stdout",
     "output_type": "stream",
     "text": [
      "CPU times: user 1.01 s, sys: 784 ms, total: 1.8 s\n",
      "Wall time: 1.79 s\n"
     ]
    }
   ],
   "source": [
    "%%time\n",
    "with open(os.path.join(INPUTS_DIR, 'df_data_inputs.pkl'), 'wb') as file:\n",
    "    pickle.dump(df_data_inputs, file)"
   ]
  },
  {
   "cell_type": "markdown",
   "id": "689495e2-16e3-4a5a-999d-6e092c76b4fb",
   "metadata": {
    "tags": []
   },
   "source": [
    "### 2. Pre-process documents"
   ]
  },
  {
   "cell_type": "markdown",
   "id": "6eee2055-e4e4-4d41-96e5-9e9924d4a9d7",
   "metadata": {},
   "source": [
    "- Manually install `en_core_web_lg` into virtual environment (https://github.com/explosion/spaCy/issues/4297)\n",
    "\n",
    "```\n",
    "conda activate usrightmedia\n",
    "\n",
    "cd ~/work/us-right-media-dev/usrightmedia/data\n",
    "\n",
    "wget -c https://github.com/explosion/spacy-models/releases/download/en_core_web_lg-3.0.0/en_core_web_lg-3.0.0.tar.gz\n",
    "\n",
    "pip install ~/work/us-right-media-dev/usrightmedia/data/en_core_web_lg-3.0.0.tar.gz\n",
    "```\n",
    "\n",
    "- not using trf (transformer-based model) because it has token limit of 512 (https://github.com/explosion/spaCy/issues/6939)\n"
   ]
  },
  {
   "cell_type": "code",
   "execution_count": 10,
   "id": "ce3e9dba-30b0-44e9-8099-09ddb97a0716",
   "metadata": {},
   "outputs": [
    {
     "name": "stdout",
     "output_type": "stream",
     "text": [
      "CPU times: user 4min 8s, sys: 111 ms, total: 4min 8s\n",
      "Wall time: 4min 8s\n"
     ]
    }
   ],
   "source": [
    "%%time\n",
    "docs_titles = preprocess_docs(titles, 'titles', INPUTS_DIR)"
   ]
  },
  {
   "cell_type": "code",
   "execution_count": 11,
   "id": "4baf446c-604a-4226-b42d-ead0f5c7840c",
   "metadata": {},
   "outputs": [
    {
     "name": "stdout",
     "output_type": "stream",
     "text": [
      "CPU times: user 32min 4s, sys: 17 s, total: 32min 21s\n",
      "Wall time: 32min 22s\n"
     ]
    }
   ],
   "source": [
    "%%time\n",
    "docs_leads = preprocess_docs(leads, 'leads', INPUTS_DIR)"
   ]
  },
  {
   "cell_type": "code",
   "execution_count": 12,
   "id": "a6119552-7a24-411a-ab25-c5aa932f8c23",
   "metadata": {},
   "outputs": [
    {
     "name": "stdout",
     "output_type": "stream",
     "text": [
      "CPU times: user 2h 28min 20s, sys: 21min 40s, total: 2h 50min\n",
      "Wall time: 2h 50min 1s\n"
     ]
    }
   ],
   "source": [
    "%%time\n",
    "docs_texts = preprocess_docs(texts, 'texts', INPUTS_DIR)"
   ]
  },
  {
   "cell_type": "markdown",
   "id": "415b28e8-16af-4bc8-ac64-fecfae421ba7",
   "metadata": {},
   "source": [
    "### 3. Create dictionary"
   ]
  },
  {
   "cell_type": "code",
   "execution_count": 13,
   "id": "d525fee4-0da1-4409-8e6b-906bc3129776",
   "metadata": {},
   "outputs": [
    {
     "name": "stdout",
     "output_type": "stream",
     "text": [
      "CPU times: user 1.33 s, sys: 369 µs, total: 1.33 s\n",
      "Wall time: 1.33 s\n"
     ]
    }
   ],
   "source": [
    "%%time\n",
    "dict_titles = save_dictionary(docs_titles, 'titles', INPUTS_DIR)"
   ]
  },
  {
   "cell_type": "code",
   "execution_count": 14,
   "id": "c38e37e2-3088-4936-8186-fe7c215c6f59",
   "metadata": {},
   "outputs": [
    {
     "name": "stdout",
     "output_type": "stream",
     "text": [
      "CPU times: user 6.32 s, sys: 248 µs, total: 6.32 s\n",
      "Wall time: 6.32 s\n"
     ]
    }
   ],
   "source": [
    "%%time\n",
    "dict_leads = save_dictionary(docs_leads, 'leads', INPUTS_DIR)"
   ]
  },
  {
   "cell_type": "code",
   "execution_count": 15,
   "id": "c0998d63-d2e0-4c81-8511-f48ec46c9aac",
   "metadata": {},
   "outputs": [
    {
     "name": "stdout",
     "output_type": "stream",
     "text": [
      "CPU times: user 25.9 s, sys: 16.2 ms, total: 25.9 s\n",
      "Wall time: 25.9 s\n"
     ]
    }
   ],
   "source": [
    "%%time\n",
    "dict_texts = save_dictionary(docs_texts, 'texts', INPUTS_DIR)"
   ]
  },
  {
   "cell_type": "markdown",
   "id": "fa6bd244-c187-4476-bbcb-6cb0ebc185f1",
   "metadata": {},
   "source": [
    "### 4. Create corpus"
   ]
  },
  {
   "cell_type": "code",
   "execution_count": 16,
   "id": "a5f47d7a-d580-4897-b71c-875eaf4555b3",
   "metadata": {},
   "outputs": [
    {
     "name": "stdout",
     "output_type": "stream",
     "text": [
      "CPU times: user 6.88 s, sys: 143 ms, total: 7.02 s\n",
      "Wall time: 7.02 s\n"
     ]
    }
   ],
   "source": [
    "%%time\n",
    "corp_titles, corp_tfidf_titles = save_corpus(dict_titles, docs_titles, 'titles', INPUTS_DIR)"
   ]
  },
  {
   "cell_type": "code",
   "execution_count": 17,
   "id": "d72e69a2-59f0-4942-97fe-f1d6c79d52d1",
   "metadata": {},
   "outputs": [
    {
     "name": "stdout",
     "output_type": "stream",
     "text": [
      "CPU times: user 33.9 s, sys: 509 ms, total: 34.4 s\n",
      "Wall time: 34.4 s\n"
     ]
    }
   ],
   "source": [
    "%%time\n",
    "corp_leads, corp_tfidf_leads = save_corpus(dict_leads, docs_leads, 'leads', INPUTS_DIR)"
   ]
  },
  {
   "cell_type": "code",
   "execution_count": 18,
   "id": "f2d72774-253b-49a9-81c1-da845dcbdba1",
   "metadata": {},
   "outputs": [
    {
     "name": "stdout",
     "output_type": "stream",
     "text": [
      "CPU times: user 2min 7s, sys: 1.77 s, total: 2min 8s\n",
      "Wall time: 2min 8s\n"
     ]
    }
   ],
   "source": [
    "%%time\n",
    "corp_texts, corp_tfidf_texts = save_corpus(dict_texts, docs_texts, 'texts', INPUTS_DIR)"
   ]
  },
  {
   "cell_type": "markdown",
   "id": "04293041-8ae4-41af-b12f-7d33932a0b05",
   "metadata": {},
   "source": [
    "### 5. Summary"
   ]
  },
  {
   "cell_type": "code",
   "execution_count": 19,
   "id": "50d29282-45fe-4abb-9749-adb7d53ecd68",
   "metadata": {},
   "outputs": [],
   "source": [
    "def print_input_summary(label, dictionary, corpus):\n",
    "    print(\"-\"*120)\n",
    "    print(f\"DOCS VERSION: {label}\")\n",
    "    print(f'Number of unique tokens: {len(dictionary)}')\n",
    "    print(f'Number of documents: {len(corpus)}')"
   ]
  },
  {
   "cell_type": "code",
   "execution_count": 20,
   "id": "bda2f89a-d3c7-468c-a66d-5684a7bccd9b",
   "metadata": {},
   "outputs": [
    {
     "name": "stdout",
     "output_type": "stream",
     "text": [
      "------------------------------------------------------------------------------------------------------------------------\n",
      "DOCS VERSION: titles\n",
      "Number of unique tokens: 4768\n",
      "Number of documents: 173504\n",
      "------------------------------------------------------------------------------------------------------------------------\n",
      "DOCS VERSION: leads\n",
      "Number of unique tokens: 16387\n",
      "Number of documents: 173504\n",
      "------------------------------------------------------------------------------------------------------------------------\n",
      "DOCS VERSION: texts\n",
      "Number of unique tokens: 33833\n",
      "Number of documents: 173504\n"
     ]
    }
   ],
   "source": [
    "print_input_summary('titles', dict_titles, corp_titles)\n",
    "print_input_summary('leads', dict_leads, corp_leads)\n",
    "print_input_summary('texts', dict_texts, corp_texts)"
   ]
  }
 ],
 "metadata": {
  "kernelspec": {
   "display_name": "Python 3.8 (usrightmedia)",
   "language": "python",
   "name": "usrightmedia"
  },
  "language_info": {
   "codemirror_mode": {
    "name": "ipython",
    "version": 3
   },
   "file_extension": ".py",
   "mimetype": "text/x-python",
   "name": "python",
   "nbconvert_exporter": "python",
   "pygments_lexer": "ipython3",
   "version": "3.8.12"
  }
 },
 "nbformat": 4,
 "nbformat_minor": 5
}
