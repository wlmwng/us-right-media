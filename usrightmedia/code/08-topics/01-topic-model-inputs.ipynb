{
 "cells": [
  {
   "cell_type": "markdown",
   "id": "80381e32-bfa4-410a-aa5f-102e60a1ed34",
   "metadata": {},
   "source": [
    "## Topic model inputs\n",
    "- based off of https://github.com/RaRe-Technologies/gensim/blob/develop/docs/notebooks/atmodel_tutorial.ipynb\n",
    "\n",
    "**Purpose**: create corpus"
   ]
  },
  {
   "cell_type": "code",
   "execution_count": 1,
   "id": "f5cb4265-272e-41ac-928f-f923649547c6",
   "metadata": {},
   "outputs": [],
   "source": [
    "import os\n",
    "import pandas as pd\n",
    "import pickle\n",
    "from collections import defaultdict"
   ]
  },
  {
   "cell_type": "code",
   "execution_count": 2,
   "id": "0d40263f-4d22-4a82-b199-1fa5f99f04f1",
   "metadata": {},
   "outputs": [],
   "source": [
    "# matplotlib is logged even though disable_existing_loggers=yes in logging_config.yaml\n",
    "# https://stackoverflow.com/a/51529172/7016397\n",
    "# workaround is to manually set the level before creating my logger\n",
    "import logging\n",
    "logging.getLogger('matplotlib').setLevel(logging.WARNING)\n",
    "\n",
    "from usrightmedia.shared.loggers import get_logger\n",
    "LOGGER = get_logger(filename = '01-topic-model-inputs', logger_type='main')"
   ]
  },
  {
   "cell_type": "code",
   "execution_count": 3,
   "id": "1b4f255e-05f0-475a-a99a-5d8ad135f5b9",
   "metadata": {},
   "outputs": [],
   "source": [
    "from usrightmedia.shared.topics_utils import *"
   ]
  },
  {
   "cell_type": "markdown",
   "id": "a431c954-476e-44ac-8a6d-6fd033e2a281",
   "metadata": {},
   "source": [
    "### 1. Load documents from Elasticsearch"
   ]
  },
  {
   "cell_type": "code",
   "execution_count": 4,
   "id": "28415994-77a2-4f7c-b24c-f104ab73eb05",
   "metadata": {},
   "outputs": [
    {
     "name": "stdout",
     "output_type": "stream",
     "text": [
      "2022-01-19 05:56:54,532 - [WARNING] - INCA - (hype_analysis.py).<module>(21) - $DISPLAY environment variable is not set, trying a different approach. You probably are running INCA on a text console, right?\n",
      "2022-01-19 05:56:54,814 - [WARNING] - INCA - (var_tsa_analysis.py).<module>(21) - $DISPLAY environment variable is not set, trying a different approach. You probably are running INCA on a text console, right?\n"
     ]
    }
   ],
   "source": [
    "from inca import Inca\n",
    "myinca = Inca()\n",
    "\n",
    "query = {\n",
    "    \"query\": {\n",
    "        \"bool\": {\n",
    "            \"filter\": [\n",
    "                {\"term\": {\"should_include\": True}}\n",
    "            ]\n",
    "        }\n",
    "    }\n",
    "}\n",
    "\n",
    "docs = myinca.database.document_generator(query)"
   ]
  },
  {
   "cell_type": "code",
   "execution_count": 5,
   "id": "015e0b33-8cae-4a0a-aa9a-1c120892db62",
   "metadata": {},
   "outputs": [],
   "source": [
    "titles = [] # docs option 1\n",
    "leads = [] # docs option 2\n",
    "texts = [] # docs option 3\n",
    "doctypes = []\n",
    "ids = []"
   ]
  },
  {
   "cell_type": "code",
   "execution_count": 6,
   "id": "269fb0fc-17ad-4f00-b2a2-c38f1d910839",
   "metadata": {},
   "outputs": [
    {
     "name": "stderr",
     "output_type": "stream",
     "text": [
      "100%|██████████| 727748/727748 [04:43<00:00, 2569.45it/s]\n"
     ]
    }
   ],
   "source": [
    "for n, doc in enumerate(docs):\n",
    "    title = doc[\"_source\"][\"title\"]\n",
    "    text = doc[\"_source\"][\"article_maintext\"] # as scraped by news-please\n",
    "    \n",
    "    lead = text.split()[0:100]\n",
    "    lead = ' '.join(lead) \n",
    "    lead = title + lead\n",
    "    \n",
    "    titles.append(title)\n",
    "    leads.append(lead)\n",
    "    texts.append(text)\n",
    "    \n",
    "    doctypes.append(doc[\"_source\"]['doctype'])\n",
    "    ids.append(doc['_id'])"
   ]
  },
  {
   "cell_type": "code",
   "execution_count": 7,
   "id": "fb209049-4b72-47d0-844d-2285bae8a20d",
   "metadata": {},
   "outputs": [],
   "source": [
    "df_data_inputs = pd.DataFrame({\"doc_id\": ids,\n",
    "                               \"doctype\": doctypes,\n",
    "                               \"title\": titles,\n",
    "                               \"lead\": leads,\n",
    "                               \"article_maintext\": texts})"
   ]
  },
  {
   "cell_type": "code",
   "execution_count": 8,
   "id": "f918b6fa-4eba-4b5a-a483-5e529c045090",
   "metadata": {},
   "outputs": [
    {
     "data": {
      "text/html": [
       "<div>\n",
       "<style scoped>\n",
       "    .dataframe tbody tr th:only-of-type {\n",
       "        vertical-align: middle;\n",
       "    }\n",
       "\n",
       "    .dataframe tbody tr th {\n",
       "        vertical-align: top;\n",
       "    }\n",
       "\n",
       "    .dataframe thead th {\n",
       "        text-align: right;\n",
       "    }\n",
       "</style>\n",
       "<table border=\"1\" class=\"dataframe\">\n",
       "  <thead>\n",
       "    <tr style=\"text-align: right;\">\n",
       "      <th></th>\n",
       "      <th>doc_id</th>\n",
       "      <th>doctype</th>\n",
       "      <th>title</th>\n",
       "      <th>lead</th>\n",
       "      <th>article_maintext</th>\n",
       "    </tr>\n",
       "  </thead>\n",
       "  <tbody>\n",
       "    <tr>\n",
       "      <th>0</th>\n",
       "      <td>AmericanRenaissance_1128638341</td>\n",
       "      <td>americanrenaissance</td>\n",
       "      <td>Congresswoman Hopes Reparations Bill is Path t...</td>\n",
       "      <td>Congresswoman Hopes Reparations Bill is Path t...</td>\n",
       "      <td>Nicholas Ballasy, PJ Media, December 30, 2018\\...</td>\n",
       "    </tr>\n",
       "    <tr>\n",
       "      <th>1</th>\n",
       "      <td>Breitbart_621129461</td>\n",
       "      <td>breitbart</td>\n",
       "      <td>Portrait of Ronald Reagan Defaced During Break...</td>\n",
       "      <td>Portrait of Ronald Reagan Defaced During Break...</td>\n",
       "      <td>Someone vandalized a portrait of former Presid...</td>\n",
       "    </tr>\n",
       "    <tr>\n",
       "      <th>2</th>\n",
       "      <td>Breitbart_1483020896</td>\n",
       "      <td>breitbart</td>\n",
       "      <td>Study: Opioid Deaths Rise in Towns Where U.S. ...</td>\n",
       "      <td>Study: Opioid Deaths Rise in Towns Where U.S. ...</td>\n",
       "      <td>Opioid deaths sharply rise in American communi...</td>\n",
       "    </tr>\n",
       "    <tr>\n",
       "      <th>3</th>\n",
       "      <td>Breitbart_1483567174</td>\n",
       "      <td>breitbart</td>\n",
       "      <td>Uber, Postmates Sue California to Stop Gig Wor...</td>\n",
       "      <td>Uber, Postmates Sue California to Stop Gig Wor...</td>\n",
       "      <td>Ride-sharing giant Uber and courier service Po...</td>\n",
       "    </tr>\n",
       "    <tr>\n",
       "      <th>4</th>\n",
       "      <td>AmericanRenaissance_1812166693</td>\n",
       "      <td>americanrenaissance</td>\n",
       "      <td>Dark Money Behemoth That Hosts BLM Foundation ...</td>\n",
       "      <td>Dark Money Behemoth That Hosts BLM Foundation ...</td>\n",
       "      <td>Joe Schoffstall, Washington Free Beacon, Decem...</td>\n",
       "    </tr>\n",
       "    <tr>\n",
       "      <th>...</th>\n",
       "      <td>...</td>\n",
       "      <td>...</td>\n",
       "      <td>...</td>\n",
       "      <td>...</td>\n",
       "      <td>...</td>\n",
       "    </tr>\n",
       "    <tr>\n",
       "      <th>727743</th>\n",
       "      <td>WashingtonExaminer_999923116</td>\n",
       "      <td>washingtonexaminer</td>\n",
       "      <td>White House, DHS rip Joe Scarborough for compa...</td>\n",
       "      <td>White House, DHS rip Joe Scarborough for compa...</td>\n",
       "      <td>The White House and Department of Homeland Sec...</td>\n",
       "    </tr>\n",
       "    <tr>\n",
       "      <th>727744</th>\n",
       "      <td>WashingtonExaminer_999923435</td>\n",
       "      <td>washingtonexaminer</td>\n",
       "      <td>The 50 years since MLK's assassination</td>\n",
       "      <td>The 50 years since MLK's assassinationFifty ye...</td>\n",
       "      <td>Fifty years ago this evening, the Rev. Dr. Mar...</td>\n",
       "    </tr>\n",
       "    <tr>\n",
       "      <th>727745</th>\n",
       "      <td>WashingtonExaminer_999951831</td>\n",
       "      <td>washingtonexaminer</td>\n",
       "      <td>Mika Brzezinski says Trump is upset he can't w...</td>\n",
       "      <td>Mika Brzezinski says Trump is upset he can't w...</td>\n",
       "      <td>“Morning Joe” cohost Mika Brzezinski said some...</td>\n",
       "    </tr>\n",
       "    <tr>\n",
       "      <th>727746</th>\n",
       "      <td>WashingtonExaminer_999952161</td>\n",
       "      <td>washingtonexaminer</td>\n",
       "      <td>First person sentenced in Robert Mueller's Rus...</td>\n",
       "      <td>First person sentenced in Robert Mueller's Rus...</td>\n",
       "      <td>A federal judge on Tuesday sentenced the first...</td>\n",
       "    </tr>\n",
       "    <tr>\n",
       "      <th>727747</th>\n",
       "      <td>WashingtonExaminer_999966815</td>\n",
       "      <td>washingtonexaminer</td>\n",
       "      <td>Alan Dershowitz: Trump should not testify abou...</td>\n",
       "      <td>Alan Dershowitz: Trump should not testify abou...</td>\n",
       "      <td>Famed lawyer Alan Dershowitz warned President ...</td>\n",
       "    </tr>\n",
       "  </tbody>\n",
       "</table>\n",
       "<p>727748 rows × 5 columns</p>\n",
       "</div>"
      ],
      "text/plain": [
       "                                doc_id              doctype  \\\n",
       "0       AmericanRenaissance_1128638341  americanrenaissance   \n",
       "1                  Breitbart_621129461            breitbart   \n",
       "2                 Breitbart_1483020896            breitbart   \n",
       "3                 Breitbart_1483567174            breitbart   \n",
       "4       AmericanRenaissance_1812166693  americanrenaissance   \n",
       "...                                ...                  ...   \n",
       "727743    WashingtonExaminer_999923116   washingtonexaminer   \n",
       "727744    WashingtonExaminer_999923435   washingtonexaminer   \n",
       "727745    WashingtonExaminer_999951831   washingtonexaminer   \n",
       "727746    WashingtonExaminer_999952161   washingtonexaminer   \n",
       "727747    WashingtonExaminer_999966815   washingtonexaminer   \n",
       "\n",
       "                                                    title  \\\n",
       "0       Congresswoman Hopes Reparations Bill is Path t...   \n",
       "1       Portrait of Ronald Reagan Defaced During Break...   \n",
       "2       Study: Opioid Deaths Rise in Towns Where U.S. ...   \n",
       "3       Uber, Postmates Sue California to Stop Gig Wor...   \n",
       "4       Dark Money Behemoth That Hosts BLM Foundation ...   \n",
       "...                                                   ...   \n",
       "727743  White House, DHS rip Joe Scarborough for compa...   \n",
       "727744             The 50 years since MLK's assassination   \n",
       "727745  Mika Brzezinski says Trump is upset he can't w...   \n",
       "727746  First person sentenced in Robert Mueller's Rus...   \n",
       "727747  Alan Dershowitz: Trump should not testify abou...   \n",
       "\n",
       "                                                     lead  \\\n",
       "0       Congresswoman Hopes Reparations Bill is Path t...   \n",
       "1       Portrait of Ronald Reagan Defaced During Break...   \n",
       "2       Study: Opioid Deaths Rise in Towns Where U.S. ...   \n",
       "3       Uber, Postmates Sue California to Stop Gig Wor...   \n",
       "4       Dark Money Behemoth That Hosts BLM Foundation ...   \n",
       "...                                                   ...   \n",
       "727743  White House, DHS rip Joe Scarborough for compa...   \n",
       "727744  The 50 years since MLK's assassinationFifty ye...   \n",
       "727745  Mika Brzezinski says Trump is upset he can't w...   \n",
       "727746  First person sentenced in Robert Mueller's Rus...   \n",
       "727747  Alan Dershowitz: Trump should not testify abou...   \n",
       "\n",
       "                                         article_maintext  \n",
       "0       Nicholas Ballasy, PJ Media, December 30, 2018\\...  \n",
       "1       Someone vandalized a portrait of former Presid...  \n",
       "2       Opioid deaths sharply rise in American communi...  \n",
       "3       Ride-sharing giant Uber and courier service Po...  \n",
       "4       Joe Schoffstall, Washington Free Beacon, Decem...  \n",
       "...                                                   ...  \n",
       "727743  The White House and Department of Homeland Sec...  \n",
       "727744  Fifty years ago this evening, the Rev. Dr. Mar...  \n",
       "727745  “Morning Joe” cohost Mika Brzezinski said some...  \n",
       "727746  A federal judge on Tuesday sentenced the first...  \n",
       "727747  Famed lawyer Alan Dershowitz warned President ...  \n",
       "\n",
       "[727748 rows x 5 columns]"
      ]
     },
     "execution_count": 8,
     "metadata": {},
     "output_type": "execute_result"
    }
   ],
   "source": [
    "df_data_inputs"
   ]
  },
  {
   "cell_type": "code",
   "execution_count": 9,
   "id": "023ac3e8-32d1-458c-b553-c950b0b50ec8",
   "metadata": {},
   "outputs": [
    {
     "name": "stdout",
     "output_type": "stream",
     "text": [
      "CPU times: user 4.49 s, sys: 3.15 s, total: 7.64 s\n",
      "Wall time: 7.64 s\n"
     ]
    }
   ],
   "source": [
    "%%time\n",
    "with open(os.path.join(INPUTS_DIR, 'df_data_inputs.pkl'), 'wb') as file:\n",
    "    pickle.dump(df_data_inputs, file)"
   ]
  },
  {
   "cell_type": "markdown",
   "id": "689495e2-16e3-4a5a-999d-6e092c76b4fb",
   "metadata": {
    "tags": []
   },
   "source": [
    "### 2. Pre-process documents"
   ]
  },
  {
   "cell_type": "markdown",
   "id": "6eee2055-e4e4-4d41-96e5-9e9924d4a9d7",
   "metadata": {},
   "source": [
    "- Manually install `en_core_web_lg` into virtual environment (https://github.com/explosion/spaCy/issues/4297)\n",
    "\n",
    "```\n",
    "conda activate usrightmedia\n",
    "\n",
    "python -m spacy download en_core_web_lg\n",
    "```\n",
    "\n",
    "- not using trf (transformer-based model) because it has token limit of 512 (https://github.com/explosion/spaCy/issues/6939)\n"
   ]
  },
  {
   "cell_type": "code",
   "execution_count": 10,
   "id": "ce3e9dba-30b0-44e9-8099-09ddb97a0716",
   "metadata": {},
   "outputs": [
    {
     "name": "stdout",
     "output_type": "stream",
     "text": [
      "CPU times: user 18min 24s, sys: 481 ms, total: 18min 24s\n",
      "Wall time: 18min 24s\n"
     ]
    }
   ],
   "source": [
    "%%time\n",
    "docs_titles = preprocess_docs(titles, 'titles', INPUTS_DIR)"
   ]
  },
  {
   "cell_type": "code",
   "execution_count": 11,
   "id": "4baf446c-604a-4226-b42d-ead0f5c7840c",
   "metadata": {},
   "outputs": [
    {
     "name": "stdout",
     "output_type": "stream",
     "text": [
      "CPU times: user 2h 23min 56s, sys: 17.1 s, total: 2h 24min 13s\n",
      "Wall time: 2h 24min 13s\n"
     ]
    }
   ],
   "source": [
    "%%time\n",
    "docs_leads = preprocess_docs(leads, 'leads', INPUTS_DIR)"
   ]
  },
  {
   "cell_type": "code",
   "execution_count": 12,
   "id": "a6119552-7a24-411a-ab25-c5aa932f8c23",
   "metadata": {},
   "outputs": [
    {
     "name": "stdout",
     "output_type": "stream",
     "text": [
      "CPU times: user 10h 50min 29s, sys: 1h 57min 23s, total: 12h 47min 52s\n",
      "Wall time: 12h 47min 50s\n"
     ]
    }
   ],
   "source": [
    "%%time\n",
    "docs_texts = preprocess_docs(texts, 'texts', INPUTS_DIR)"
   ]
  },
  {
   "cell_type": "markdown",
   "id": "415b28e8-16af-4bc8-ac64-fecfae421ba7",
   "metadata": {},
   "source": [
    "### 3. Create dictionary"
   ]
  },
  {
   "cell_type": "code",
   "execution_count": 13,
   "id": "d525fee4-0da1-4409-8e6b-906bc3129776",
   "metadata": {},
   "outputs": [
    {
     "name": "stdout",
     "output_type": "stream",
     "text": [
      "CPU times: user 6.05 s, sys: 1.71 ms, total: 6.05 s\n",
      "Wall time: 6.05 s\n"
     ]
    }
   ],
   "source": [
    "%%time\n",
    "dict_titles = save_dictionary(docs_titles, 'titles', INPUTS_DIR)"
   ]
  },
  {
   "cell_type": "code",
   "execution_count": 14,
   "id": "c38e37e2-3088-4936-8186-fe7c215c6f59",
   "metadata": {},
   "outputs": [
    {
     "name": "stdout",
     "output_type": "stream",
     "text": [
      "CPU times: user 31.1 s, sys: 15 ms, total: 31.2 s\n",
      "Wall time: 31.2 s\n"
     ]
    }
   ],
   "source": [
    "%%time\n",
    "dict_leads = save_dictionary(docs_leads, 'leads', INPUTS_DIR)"
   ]
  },
  {
   "cell_type": "code",
   "execution_count": 15,
   "id": "c0998d63-d2e0-4c81-8511-f48ec46c9aac",
   "metadata": {},
   "outputs": [
    {
     "name": "stdout",
     "output_type": "stream",
     "text": [
      "CPU times: user 2min 4s, sys: 17.7 ms, total: 2min 4s\n",
      "Wall time: 2min 4s\n"
     ]
    }
   ],
   "source": [
    "%%time\n",
    "dict_texts = save_dictionary(docs_texts, 'texts', INPUTS_DIR)"
   ]
  },
  {
   "cell_type": "markdown",
   "id": "fa6bd244-c187-4476-bbcb-6cb0ebc185f1",
   "metadata": {},
   "source": [
    "### 4. Create corpus"
   ]
  },
  {
   "cell_type": "code",
   "execution_count": 16,
   "id": "a5f47d7a-d580-4897-b71c-875eaf4555b3",
   "metadata": {},
   "outputs": [
    {
     "name": "stdout",
     "output_type": "stream",
     "text": [
      "CPU times: user 35.1 s, sys: 577 ms, total: 35.7 s\n",
      "Wall time: 35.7 s\n"
     ]
    }
   ],
   "source": [
    "%%time\n",
    "corp_titles, corp_tfidf_titles = save_corpus(dict_titles, docs_titles, 'titles', INPUTS_DIR)"
   ]
  },
  {
   "cell_type": "code",
   "execution_count": 17,
   "id": "d72e69a2-59f0-4942-97fe-f1d6c79d52d1",
   "metadata": {},
   "outputs": [
    {
     "name": "stdout",
     "output_type": "stream",
     "text": [
      "CPU times: user 2min 31s, sys: 2.06 s, total: 2min 33s\n",
      "Wall time: 2min 33s\n"
     ]
    }
   ],
   "source": [
    "%%time\n",
    "corp_leads, corp_tfidf_leads = save_corpus(dict_leads, docs_leads, 'leads', INPUTS_DIR)"
   ]
  },
  {
   "cell_type": "code",
   "execution_count": 18,
   "id": "f2d72774-253b-49a9-81c1-da845dcbdba1",
   "metadata": {},
   "outputs": [
    {
     "name": "stdout",
     "output_type": "stream",
     "text": [
      "CPU times: user 9min 10s, sys: 7.43 s, total: 9min 17s\n",
      "Wall time: 9min 17s\n"
     ]
    }
   ],
   "source": [
    "%%time\n",
    "corp_texts, corp_tfidf_texts = save_corpus(dict_texts, docs_texts, 'texts', INPUTS_DIR)"
   ]
  },
  {
   "cell_type": "markdown",
   "id": "04293041-8ae4-41af-b12f-7d33932a0b05",
   "metadata": {},
   "source": [
    "### 5. Summary"
   ]
  },
  {
   "cell_type": "code",
   "execution_count": 19,
   "id": "50d29282-45fe-4abb-9749-adb7d53ecd68",
   "metadata": {},
   "outputs": [],
   "source": [
    "def print_input_summary(label, dictionary, corpus):\n",
    "    print(\"-\"*120)\n",
    "    print(f\"DOCS VERSION: {label}\")\n",
    "    print(f'Number of unique tokens: {len(dictionary)}')\n",
    "    print(f'Number of documents: {len(corpus)}')"
   ]
  },
  {
   "cell_type": "code",
   "execution_count": 20,
   "id": "bda2f89a-d3c7-468c-a66d-5684a7bccd9b",
   "metadata": {},
   "outputs": [
    {
     "name": "stdout",
     "output_type": "stream",
     "text": [
      "------------------------------------------------------------------------------------------------------------------------\n",
      "DOCS VERSION: titles\n",
      "Number of unique tokens: 10074\n",
      "Number of documents: 727748\n",
      "------------------------------------------------------------------------------------------------------------------------\n",
      "DOCS VERSION: leads\n",
      "Number of unique tokens: 31988\n",
      "Number of documents: 727748\n",
      "------------------------------------------------------------------------------------------------------------------------\n",
      "DOCS VERSION: texts\n",
      "Number of unique tokens: 60511\n",
      "Number of documents: 727748\n"
     ]
    }
   ],
   "source": [
    "print_input_summary('titles', dict_titles, corp_titles)\n",
    "print_input_summary('leads', dict_leads, corp_leads)\n",
    "print_input_summary('texts', dict_texts, corp_texts)"
   ]
  }
 ],
 "metadata": {
  "kernelspec": {
   "display_name": "Python 3.8 (usrightmedia)",
   "language": "python",
   "name": "usrightmedia"
  },
  "language_info": {
   "codemirror_mode": {
    "name": "ipython",
    "version": 3
   },
   "file_extension": ".py",
   "mimetype": "text/x-python",
   "name": "python",
   "nbconvert_exporter": "python",
   "pygments_lexer": "ipython3",
   "version": "3.8.12"
  }
 },
 "nbformat": 4,
 "nbformat_minor": 5
}
